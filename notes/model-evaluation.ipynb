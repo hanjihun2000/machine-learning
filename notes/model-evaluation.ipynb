{
 "cells": [
  {
   "cell_type": "markdown",
   "id": "8a162b9a",
   "metadata": {},
   "source": [
    "# Model Evaluation\n",
    "\n",
    "Model evaluation is a crucial step to validate how well the trained model performs to the data that have not seen before."
   ]
  },
  {
   "cell_type": "code",
   "execution_count": 1,
   "id": "990bcebc",
   "metadata": {},
   "outputs": [],
   "source": [
    "import numpy as np\n",
    "import pandas as pd\n",
    "import matplotlib.pyplot as plt"
   ]
  },
  {
   "cell_type": "markdown",
   "id": "47c55a5b",
   "metadata": {},
   "source": [
    "## Load the Breast Cancer Dataset\n",
    "\n",
    "You can download the breast cancer dataset [here](https://archive.ics.uci.edu/ml/machine-learning-databases/breast-cancer-wisconsin/)."
   ]
  },
  {
   "cell_type": "code",
   "execution_count": 2,
   "id": "b430ca32",
   "metadata": {},
   "outputs": [
    {
     "data": {
      "text/html": [
       "<div>\n",
       "<style scoped>\n",
       "    .dataframe tbody tr th:only-of-type {\n",
       "        vertical-align: middle;\n",
       "    }\n",
       "\n",
       "    .dataframe tbody tr th {\n",
       "        vertical-align: top;\n",
       "    }\n",
       "\n",
       "    .dataframe thead th {\n",
       "        text-align: right;\n",
       "    }\n",
       "</style>\n",
       "<table border=\"1\" class=\"dataframe\">\n",
       "  <thead>\n",
       "    <tr style=\"text-align: right;\">\n",
       "      <th></th>\n",
       "      <th>0</th>\n",
       "      <th>1</th>\n",
       "      <th>2</th>\n",
       "      <th>3</th>\n",
       "      <th>4</th>\n",
       "      <th>5</th>\n",
       "      <th>6</th>\n",
       "      <th>7</th>\n",
       "      <th>8</th>\n",
       "      <th>9</th>\n",
       "      <th>...</th>\n",
       "      <th>22</th>\n",
       "      <th>23</th>\n",
       "      <th>24</th>\n",
       "      <th>25</th>\n",
       "      <th>26</th>\n",
       "      <th>27</th>\n",
       "      <th>28</th>\n",
       "      <th>29</th>\n",
       "      <th>30</th>\n",
       "      <th>31</th>\n",
       "    </tr>\n",
       "  </thead>\n",
       "  <tbody>\n",
       "    <tr>\n",
       "      <th>0</th>\n",
       "      <td>842302</td>\n",
       "      <td>M</td>\n",
       "      <td>17.99</td>\n",
       "      <td>10.38</td>\n",
       "      <td>122.80</td>\n",
       "      <td>1001.0</td>\n",
       "      <td>0.11840</td>\n",
       "      <td>0.27760</td>\n",
       "      <td>0.3001</td>\n",
       "      <td>0.14710</td>\n",
       "      <td>...</td>\n",
       "      <td>25.38</td>\n",
       "      <td>17.33</td>\n",
       "      <td>184.60</td>\n",
       "      <td>2019.0</td>\n",
       "      <td>0.1622</td>\n",
       "      <td>0.6656</td>\n",
       "      <td>0.7119</td>\n",
       "      <td>0.2654</td>\n",
       "      <td>0.4601</td>\n",
       "      <td>0.11890</td>\n",
       "    </tr>\n",
       "    <tr>\n",
       "      <th>1</th>\n",
       "      <td>842517</td>\n",
       "      <td>M</td>\n",
       "      <td>20.57</td>\n",
       "      <td>17.77</td>\n",
       "      <td>132.90</td>\n",
       "      <td>1326.0</td>\n",
       "      <td>0.08474</td>\n",
       "      <td>0.07864</td>\n",
       "      <td>0.0869</td>\n",
       "      <td>0.07017</td>\n",
       "      <td>...</td>\n",
       "      <td>24.99</td>\n",
       "      <td>23.41</td>\n",
       "      <td>158.80</td>\n",
       "      <td>1956.0</td>\n",
       "      <td>0.1238</td>\n",
       "      <td>0.1866</td>\n",
       "      <td>0.2416</td>\n",
       "      <td>0.1860</td>\n",
       "      <td>0.2750</td>\n",
       "      <td>0.08902</td>\n",
       "    </tr>\n",
       "    <tr>\n",
       "      <th>2</th>\n",
       "      <td>84300903</td>\n",
       "      <td>M</td>\n",
       "      <td>19.69</td>\n",
       "      <td>21.25</td>\n",
       "      <td>130.00</td>\n",
       "      <td>1203.0</td>\n",
       "      <td>0.10960</td>\n",
       "      <td>0.15990</td>\n",
       "      <td>0.1974</td>\n",
       "      <td>0.12790</td>\n",
       "      <td>...</td>\n",
       "      <td>23.57</td>\n",
       "      <td>25.53</td>\n",
       "      <td>152.50</td>\n",
       "      <td>1709.0</td>\n",
       "      <td>0.1444</td>\n",
       "      <td>0.4245</td>\n",
       "      <td>0.4504</td>\n",
       "      <td>0.2430</td>\n",
       "      <td>0.3613</td>\n",
       "      <td>0.08758</td>\n",
       "    </tr>\n",
       "    <tr>\n",
       "      <th>3</th>\n",
       "      <td>84348301</td>\n",
       "      <td>M</td>\n",
       "      <td>11.42</td>\n",
       "      <td>20.38</td>\n",
       "      <td>77.58</td>\n",
       "      <td>386.1</td>\n",
       "      <td>0.14250</td>\n",
       "      <td>0.28390</td>\n",
       "      <td>0.2414</td>\n",
       "      <td>0.10520</td>\n",
       "      <td>...</td>\n",
       "      <td>14.91</td>\n",
       "      <td>26.50</td>\n",
       "      <td>98.87</td>\n",
       "      <td>567.7</td>\n",
       "      <td>0.2098</td>\n",
       "      <td>0.8663</td>\n",
       "      <td>0.6869</td>\n",
       "      <td>0.2575</td>\n",
       "      <td>0.6638</td>\n",
       "      <td>0.17300</td>\n",
       "    </tr>\n",
       "    <tr>\n",
       "      <th>4</th>\n",
       "      <td>84358402</td>\n",
       "      <td>M</td>\n",
       "      <td>20.29</td>\n",
       "      <td>14.34</td>\n",
       "      <td>135.10</td>\n",
       "      <td>1297.0</td>\n",
       "      <td>0.10030</td>\n",
       "      <td>0.13280</td>\n",
       "      <td>0.1980</td>\n",
       "      <td>0.10430</td>\n",
       "      <td>...</td>\n",
       "      <td>22.54</td>\n",
       "      <td>16.67</td>\n",
       "      <td>152.20</td>\n",
       "      <td>1575.0</td>\n",
       "      <td>0.1374</td>\n",
       "      <td>0.2050</td>\n",
       "      <td>0.4000</td>\n",
       "      <td>0.1625</td>\n",
       "      <td>0.2364</td>\n",
       "      <td>0.07678</td>\n",
       "    </tr>\n",
       "  </tbody>\n",
       "</table>\n",
       "<p>5 rows × 32 columns</p>\n",
       "</div>"
      ],
      "text/plain": [
       "         0  1      2      3       4       5        6        7       8   \\\n",
       "0    842302  M  17.99  10.38  122.80  1001.0  0.11840  0.27760  0.3001   \n",
       "1    842517  M  20.57  17.77  132.90  1326.0  0.08474  0.07864  0.0869   \n",
       "2  84300903  M  19.69  21.25  130.00  1203.0  0.10960  0.15990  0.1974   \n",
       "3  84348301  M  11.42  20.38   77.58   386.1  0.14250  0.28390  0.2414   \n",
       "4  84358402  M  20.29  14.34  135.10  1297.0  0.10030  0.13280  0.1980   \n",
       "\n",
       "        9   ...     22     23      24      25      26      27      28      29  \\\n",
       "0  0.14710  ...  25.38  17.33  184.60  2019.0  0.1622  0.6656  0.7119  0.2654   \n",
       "1  0.07017  ...  24.99  23.41  158.80  1956.0  0.1238  0.1866  0.2416  0.1860   \n",
       "2  0.12790  ...  23.57  25.53  152.50  1709.0  0.1444  0.4245  0.4504  0.2430   \n",
       "3  0.10520  ...  14.91  26.50   98.87   567.7  0.2098  0.8663  0.6869  0.2575   \n",
       "4  0.10430  ...  22.54  16.67  152.20  1575.0  0.1374  0.2050  0.4000  0.1625   \n",
       "\n",
       "       30       31  \n",
       "0  0.4601  0.11890  \n",
       "1  0.2750  0.08902  \n",
       "2  0.3613  0.08758  \n",
       "3  0.6638  0.17300  \n",
       "4  0.2364  0.07678  \n",
       "\n",
       "[5 rows x 32 columns]"
      ]
     },
     "execution_count": 2,
     "metadata": {},
     "output_type": "execute_result"
    }
   ],
   "source": [
    "df = pd.read_csv('https://archive.ics.uci.edu/ml/machine-learning-databases/breast-cancer-wisconsin/wdbc.data', header=None)\n",
    "df.head()"
   ]
  },
  {
   "cell_type": "code",
   "execution_count": 3,
   "id": "6fb3123a",
   "metadata": {},
   "outputs": [],
   "source": [
    "from sklearn.preprocessing import LabelEncoder\n",
    "from sklearn.model_selection import train_test_split\n",
    "\n",
    "X = df.iloc[:, 2:].to_numpy()\n",
    "y = df.iloc[:, 1].to_numpy()\n",
    "le = LabelEncoder()\n",
    "y = le.fit_transform(y)\n",
    "\n",
    "X_train, X_test, y_train, y_test = train_test_split(X, y, test_size=0.2, stratify=y, random_state=1)"
   ]
  },
  {
   "cell_type": "markdown",
   "id": "0d448bad",
   "metadata": {},
   "source": [
    "## Import Pipeline Class for efficient workflow\n",
    "\n",
    "Pipeline class allows to put transformer objects and an estimator object into a single pipeline, so that the preprocessing and learning steps can be done together in just a few lines of code."
   ]
  },
  {
   "cell_type": "code",
   "execution_count": 4,
   "id": "768e315c",
   "metadata": {},
   "outputs": [
    {
     "name": "stdout",
     "output_type": "stream",
     "text": [
      "Test accuracy: 0.956\n"
     ]
    }
   ],
   "source": [
    "from sklearn.preprocessing import StandardScaler\n",
    "from sklearn.decomposition import PCA\n",
    "from sklearn.linear_model import LogisticRegression as LR\n",
    "from sklearn.pipeline import make_pipeline\n",
    "\n",
    "lr_pipe = make_pipeline(\n",
    "    StandardScaler(),\n",
    "    PCA(n_components=2),\n",
    "    LR(random_state=1)\n",
    ")\n",
    "\n",
    "lr_pipe.fit(X_train, y_train)\n",
    "y_pred = lr_pipe.predict(X_test)\n",
    "print('Test accuracy: %.3f' % lr_pipe.score(X_test, y_test))"
   ]
  },
  {
   "cell_type": "code",
   "execution_count": 27,
   "id": "73b9652d",
   "metadata": {
    "scrolled": true
   },
   "outputs": [
    {
     "name": "stdout",
     "output_type": "stream",
     "text": [
      "Pipeline(steps=[('standardscaler', StandardScaler()),\n",
      "                ('pca', PCA(n_components=2)),\n",
      "                ('logisticregression',\n",
      "                 LogisticRegression(C=100.0, random_state=1))])\n"
     ]
    }
   ],
   "source": [
    "from sklearn import set_config\n",
    "set_config(display='diagram')\n",
    "print(lr_pipe)"
   ]
  },
  {
   "cell_type": "markdown",
   "id": "c4542b5e",
   "metadata": {},
   "source": [
    "## Evaluate the model using K-Fold Cross-Validation\n",
    "\n",
    "A **k-fold cross-validation** randomly divides the dataset (mostly the training data) into $k$ folds without repetition. $k-1$ folds are utilized to train the model and a leftover fold is used to evaluate the model performance. Repeat this process $k$ times to have $k$ different model evaluations. Finally, k-fold cross-validation computes the mean of $k$ different model evaluations and outputs final model performance.\n",
    "\n",
    "- $P = {1 \\over k} \\sum_{i=1}^kE_i$ where $P$ is the final model performance and $E_i$ is the *i*-th model evaluation."
   ]
  },
  {
   "cell_type": "code",
   "execution_count": 6,
   "id": "0ba17aba",
   "metadata": {},
   "outputs": [
    {
     "name": "stdout",
     "output_type": "stream",
     "text": [
      "Fold  1, Stratification: [256 153], Accuracy: 0.935\n",
      "Fold  2, Stratification: [256 153], Accuracy: 0.935\n",
      "Fold  3, Stratification: [256 153], Accuracy: 0.957\n",
      "Fold  4, Stratification: [256 153], Accuracy: 0.957\n",
      "Fold  5, Stratification: [256 153], Accuracy: 0.935\n",
      "Fold  6, Stratification: [257 153], Accuracy: 0.956\n",
      "Fold  7, Stratification: [257 153], Accuracy: 0.978\n",
      "Fold  8, Stratification: [257 153], Accuracy: 0.933\n",
      "Fold  9, Stratification: [257 153], Accuracy: 0.956\n",
      "Fold 10, Stratification: [257 153], Accuracy: 0.956\n"
     ]
    }
   ],
   "source": [
    "from sklearn.model_selection import StratifiedKFold\n",
    "\n",
    "kfold = StratifiedKFold(n_splits=10).split(X_train, y_train)\n",
    "scores = []\n",
    "\n",
    "for i, (train, test) in enumerate(kfold):\n",
    "    lr_pipe.fit(X_train[train], y_train[train])\n",
    "    score = lr_pipe.score(X_train[test], y_train[test])\n",
    "    scores.append(score)\n",
    "    print('Fold %2d, Stratification: %s, Accuracy: %.3f' % (i+1, np.bincount(y_train[train]), score))"
   ]
  },
  {
   "cell_type": "code",
   "execution_count": 7,
   "id": "1239245a",
   "metadata": {},
   "outputs": [
    {
     "name": "stdout",
     "output_type": "stream",
     "text": [
      "Stratified k-fold cross-validation accuracy: 0.950 +/- 0.014\n"
     ]
    }
   ],
   "source": [
    "print('k-fold cross-validation mean accuracy: %.3f +/- %.3f' % (np.mean(scores), np.std(scores)))"
   ]
  },
  {
   "cell_type": "code",
   "execution_count": 8,
   "id": "359467cd",
   "metadata": {},
   "outputs": [
    {
     "name": "stdout",
     "output_type": "stream",
     "text": [
      "Array of stratified k-fold cross-validation scores: \n",
      "[0.93478261 0.93478261 0.95652174 0.95652174 0.93478261 0.95555556\n",
      " 0.97777778 0.93333333 0.95555556 0.95555556]\n"
     ]
    }
   ],
   "source": [
    "# another way to calculate stratified k-fold cross-validation\n",
    "from sklearn.model_selection import cross_val_score\n",
    "\n",
    "scores = cross_val_score(estimator=lr_pipe, X=X_train, y=y_train, cv=10, n_jobs=-1)\n",
    "print('k-fold cross-validation scores: \\n%s' % scores)"
   ]
  },
  {
   "cell_type": "code",
   "execution_count": 9,
   "id": "8af814c5",
   "metadata": {
    "scrolled": true
   },
   "outputs": [
    {
     "name": "stdout",
     "output_type": "stream",
     "text": [
      "Stratified k-fold cross-validation accuracy: 0.950 +/- 0.014\n"
     ]
    }
   ],
   "source": [
    "print('k-fold cross-validation mean accuracy: %.3f +/- %.3f' % (np.mean(scores), np.std(scores)))"
   ]
  },
  {
   "cell_type": "markdown",
   "id": "235b0c32",
   "metadata": {},
   "source": [
    "## Learning and Validation Curves\n",
    "\n",
    "There are two powerful curves for debugging:\n",
    "- **Learning curve** indicates whether the model has a problem of high variation or bias based on plotting the training and validation accuracy vs. the number of training data. This curve also tells the potential risk of overfitting when the training samples are below the threshold value.\n",
    "\n",
    "- **Validation curve** on the other hand, uses the range of model parameter instead of the number of training samples to identify whether the model is underfitting or overfitting to the training data. It finds the best value range of parameter to make the model perform better."
   ]
  },
  {
   "cell_type": "code",
   "execution_count": 10,
   "id": "0e66196c",
   "metadata": {},
   "outputs": [],
   "source": [
    "from sklearn.model_selection import learning_curve\n",
    "\n",
    "lr_pipe = make_pipeline(\n",
    "    StandardScaler(),\n",
    "    LR(penalty='l2', random_state=1)\n",
    ")\n",
    "\n",
    "train_sizes, train_scores, test_scores = learning_curve(\n",
    "    estimator=lr_pipe,\n",
    "    X=X_train,\n",
    "    y=y_train,\n",
    "    train_sizes=np.linspace(0.1, 1.0, 10),\n",
    "    cv=10,\n",
    "    n_jobs=-1\n",
    ")"
   ]
  },
  {
   "cell_type": "code",
   "execution_count": 13,
   "id": "0ba77b90",
   "metadata": {},
   "outputs": [
    {
     "data": {
      "image/png": "[encoded data removed]",
      "text/plain": [
       "<Figure size 720x288 with 1 Axes>"
      ]
     },
     "metadata": {
      "needs_background": "light"
     },
     "output_type": "display_data"
    }
   ],
   "source": [
    "mean_train_scores = np.mean(train_scores, axis=1)\n",
    "std_train_scores = np.std(train_scores, axis=1)\n",
    "mean_test_scores = np.mean(test_scores, axis=1)\n",
    "std_test_scores = np.std(test_scores, axis=1)\n",
    "\n",
    "plt.figure(figsize=(10, 4))\n",
    "plt.plot(train_sizes, mean_train_scores, color='blue', marker='o', markersize=5, label='Training accuracy')\n",
    "plt.fill_between(train_sizes, mean_train_scores + std_train_scores, mean_train_scores - std_train_scores, alpha=0.15, color='blue')\n",
    "plt.plot(train_sizes, mean_test_scores, linestyle='--', color='red', marker='^', markersize=5, label='Validation accuracy')\n",
    "plt.fill_between(train_sizes, mean_test_scores + std_test_scores, mean_test_scores - std_test_scores, alpha=0.15, color='red')\n",
    "plt.grid()\n",
    "plt.legend(loc='best')\n",
    "plt.xlabel('# of training samples')\n",
    "plt.ylabel('Accuracy')\n",
    "plt.ylim([0.8, 1.01])\n",
    "plt.tight_layout()\n",
    "plt.show()"
   ]
  },
  {
   "cell_type": "code",
   "execution_count": 14,
   "id": "b041522d",
   "metadata": {},
   "outputs": [],
   "source": [
    "from sklearn.model_selection import validation_curve\n",
    "\n",
    "param_range = [0.0001, 0.001, 0.01, 0.1, 1.0, 10.0, 100.0, 1000.0]\n",
    "train_scores, test_scores = validation_curve(\n",
    "    estimator=lr_pipe,\n",
    "    X=X_train,\n",
    "    y=y_train,\n",
    "    param_name='logisticregression__C',\n",
    "    param_range=param_range,\n",
    "    cv=10,\n",
    "    n_jobs=-1\n",
    ")"
   ]
  },
  {
   "cell_type": "code",
   "execution_count": 17,
   "id": "9e45e2f2",
   "metadata": {},
   "outputs": [
    {
     "data": {
      "image/png": "[encoded data removed]",
      "text/plain": [
       "<Figure size 720x288 with 1 Axes>"
      ]
     },
     "metadata": {
      "needs_background": "light"
     },
     "output_type": "display_data"
    }
   ],
   "source": [
    "mean_train_scores = np.mean(train_scores, axis=1)\n",
    "std_train_scores = np.std(train_scores, axis=1)\n",
    "mean_test_scores = np.mean(test_scores, axis=1)\n",
    "std_test_scores = np.std(test_scores, axis=1)\n",
    "\n",
    "plt.figure(figsize=(10, 4))\n",
    "plt.plot(param_range, mean_train_scores, color='blue', marker='o', markersize=5, label='Training accuracy')\n",
    "plt.fill_between(param_range, mean_train_scores + std_train_scores, mean_train_scores - std_train_scores, alpha=0.15, color='blue')\n",
    "plt.plot(param_range, mean_test_scores, linestyle='--', color='red', marker='^', markersize=5, label='Validation accuracy')\n",
    "plt.fill_between(param_range, mean_test_scores + std_test_scores, mean_test_scores - std_test_scores, alpha=0.15, color='red')\n",
    "plt.grid()\n",
    "plt.xscale('log')\n",
    "plt.legend(loc='best')\n",
    "plt.xlabel('Parameter C')\n",
    "plt.ylabel('Accuracy')\n",
    "plt.ylim([0.5, 1.01])\n",
    "plt.tight_layout()\n",
    "plt.show()"
   ]
  },
  {
   "cell_type": "markdown",
   "id": "282d5416",
   "metadata": {},
   "source": [
    "## Grid Search for Hyperparameter Tuning\n",
    "\n",
    "Grid search is an exhaustive search method that investigates all possible combinations of parameter values. The parameters of the estimator are optimized by stratified k-fold cross-validated grid search over parameter grid. For more information, visit [scikit-learn.org about GridSearchCV](https://scikit-learn.org/stable/modules/generated/sklearn.model_selection.GridSearchCV.html)."
   ]
  },
  {
   "cell_type": "code",
   "execution_count": 28,
   "id": "ecf83ffe",
   "metadata": {},
   "outputs": [
    {
     "name": "stdout",
     "output_type": "stream",
     "text": [
      "GridSearchCV(cv=10,\n",
      "             estimator=Pipeline(steps=[('standardscaler', StandardScaler()),\n",
      "                                       ('svc', SVC(random_state=1))]),\n",
      "             n_jobs=-1,\n",
      "             param_grid=[{'svc__C': [0.0001, 0.001, 0.01, 0.1, 1.0, 10.0, 100.0,\n",
      "                                     1000.0],\n",
      "                          'svc__kernel': ['linear']},\n",
      "                         {'svc__C': [0.0001, 0.001, 0.01, 0.1, 1.0, 10.0, 100.0,\n",
      "                                     1000.0],\n",
      "                          'svc__gamma': [0.0001, 0.001, 0.01, 0.1, 1.0, 10.0,\n",
      "                                         100.0, 1000.0],\n",
      "                          'svc__kernel': ['rbf']}],\n",
      "             scoring='accuracy')\n"
     ]
    }
   ],
   "source": [
    "from sklearn.model_selection import GridSearchCV\n",
    "from sklearn.svm import SVC\n",
    "\n",
    "svc_pipe = make_pipeline(\n",
    "    StandardScaler(),\n",
    "    SVC(random_state=1)\n",
    ")\n",
    "\n",
    "param_range = [0.0001, 0.001, 0.01, 0.1, 1.0, 10.0, 100.0, 1000.0]\n",
    "param_grid = [\n",
    "    {\n",
    "        'svc__C': param_range,\n",
    "        'svc__kernel': ['linear']\n",
    "    },\n",
    "    {\n",
    "        'svc__C': param_range,\n",
    "        'svc__gamma': param_range,\n",
    "        'svc__kernel': ['rbf']\n",
    "    }\n",
    "]\n",
    "\n",
    "gs = GridSearchCV(\n",
    "    estimator=svc_pipe,\n",
    "    param_grid=param_grid,\n",
    "    scoring='accuracy',\n",
    "    cv=10,\n",
    "    refit=True,\n",
    "    n_jobs=-1\n",
    ")\n",
    "gs.fit(X_train, y_train)\n",
    "print(gs)"
   ]
  },
  {
   "cell_type": "code",
   "execution_count": 19,
   "id": "efc81983",
   "metadata": {},
   "outputs": [
    {
     "name": "stdout",
     "output_type": "stream",
     "text": [
      "0.9846859903381642\n"
     ]
    }
   ],
   "source": [
    "print(gs.best_score_)"
   ]
  },
  {
   "cell_type": "code",
   "execution_count": 20,
   "id": "3a2ab259",
   "metadata": {},
   "outputs": [
    {
     "name": "stdout",
     "output_type": "stream",
     "text": [
      "{'svc__C': 100.0, 'svc__gamma': 0.001, 'svc__kernel': 'rbf'}\n"
     ]
    }
   ],
   "source": [
    "print(gs.best_params_)"
   ]
  },
  {
   "cell_type": "code",
   "execution_count": 21,
   "id": "45165105",
   "metadata": {},
   "outputs": [
    {
     "name": "stdout",
     "output_type": "stream",
     "text": [
      "Test accuracy: 0.974\n"
     ]
    }
   ],
   "source": [
    "best_estimator = gs.best_estimator_\n",
    "print('Test accuracy: %.3f' % best_estimator.score(X_test, y_test))"
   ]
  },
  {
   "cell_type": "markdown",
   "id": "b1cea640",
   "metadata": {},
   "source": [
    "## Model Evaluation Metrics\n",
    "\n",
    "Confusion matrix is a squared matrix that indicates the number of **True Positive** (TP), **True Negative** (TN), **False Positive** (FP) and **False Negative** (FN) samples."
   ]
  },
  {
   "cell_type": "code",
   "execution_count": 22,
   "id": "d6e5d357",
   "metadata": {},
   "outputs": [
    {
     "name": "stdout",
     "output_type": "stream",
     "text": [
      "[[71  1]\n",
      " [ 2 40]]\n"
     ]
    }
   ],
   "source": [
    "from sklearn.metrics import confusion_matrix\n",
    "\n",
    "svc_pipe.fit(X_train, y_train)\n",
    "y_pred = svc_pipe.predict(X_test)\n",
    "confmat = confusion_matrix(y_true=y_test, y_pred=y_pred)\n",
    "print(confmat)"
   ]
  },
  {
   "cell_type": "code",
   "execution_count": 23,
   "id": "47c731da",
   "metadata": {},
   "outputs": [
    {
     "data": {
      "image/png": "[encoded data removed]",
      "text/plain": [
       "<Figure size 288x288 with 1 Axes>"
      ]
     },
     "metadata": {
      "needs_background": "light"
     },
     "output_type": "display_data"
    }
   ],
   "source": [
    "fig, ax = plt.subplots(figsize=(4, 4))\n",
    "ax.matshow(confmat, cmap=plt.cm.Blues, alpha=0.5)\n",
    "for i in range(confmat.shape[0]):\n",
    "    for j in range(confmat.shape[1]):\n",
    "        ax.text(i, j, s=confmat[j, i], va='center', ha='center')\n",
    "\n",
    "plt.xlabel('Predicted label')\n",
    "plt.ylabel('True label')\n",
    "plt.tight_layout()\n",
    "plt.show()"
   ]
  },
  {
   "cell_type": "code",
   "execution_count": 24,
   "id": "5b788bc1",
   "metadata": {
    "scrolled": true
   },
   "outputs": [
    {
     "data": {
      "image/png": "[encoded data removed]",
      "text/plain": [
       "<Figure size 432x288 with 2 Axes>"
      ]
     },
     "metadata": {
      "needs_background": "light"
     },
     "output_type": "display_data"
    }
   ],
   "source": [
    "from sklearn.metrics import ConfusionMatrixDisplay\n",
    "\n",
    "ConfusionMatrixDisplay.from_estimator(svc_pipe, X_test, y_test)\n",
    "plt.show()"
   ]
  },
  {
   "cell_type": "markdown",
   "id": "b7e4a16d",
   "metadata": {},
   "source": [
    "Computations for each metric are as follows:\n",
    "- Accuarcy, $ACC = {{TP + TN}\\over{FP + FN + TP + TN}}$\n",
    "- False Positive Rate, $FPR = {FP\\over{FP + TN}}$\n",
    "- True Positive Rate, $TPR = {TP\\over{FN + TP}}$\n",
    "- Precision, $PRE = {TP\\over{TP + FP}}$\n",
    "- Recall, $REC = TPR = {TP\\over{FN + TP}}$\n",
    "- F1, $F1 = 2 {{PRE * REC}\\over{PRE + REC}}$"
   ]
  },
  {
   "cell_type": "code",
   "execution_count": 25,
   "id": "4687e748",
   "metadata": {
    "scrolled": true
   },
   "outputs": [
    {
     "name": "stdout",
     "output_type": "stream",
     "text": [
      "Accuracy score: 0.974\n",
      "Precision score: 0.976\n",
      "Recall score: 0.952\n",
      "F1 score: 0.964\n"
     ]
    }
   ],
   "source": [
    "from sklearn.metrics import (accuracy_score, precision_score, recall_score, f1_score)\n",
    "\n",
    "print('Accuracy score: %.3f' % accuracy_score(y_true=y_test, y_pred=y_pred))\n",
    "print('Precision score: %.3f' % precision_score(y_true=y_test, y_pred=y_pred))\n",
    "print('Recall score: %.3f' % recall_score(y_true=y_test, y_pred=y_pred))\n",
    "print('F1 score: %.3f' % f1_score(y_true=y_test, y_pred=y_pred))"
   ]
  },
  {
   "cell_type": "markdown",
   "id": "2c89b408",
   "metadata": {},
   "source": [
    "Quoting from [scikit-learn.org about Receiver Operating Characteristic (ROC)](https://scikit-learn.org/stable/modules/model_evaluation.html#roc-metrics): \"Receiver Operating Characteristic is a graphical plot which illustrates the performance of a binary classifier system as its discrimination threshold is varied. It is created by plotting the TPR vs. FPR, at various threshold settings.\" In addition, visit [scikit-learn.org about RocCurveDisplay](https://scikit-learn.org/stable/modules/generated/sklearn.metrics.RocCurveDisplay.html) for more information about the RocCurveDisplay class.\n",
    "\n",
    "Computing the area under the ROC curve (ROC AUC) can quantitatively evaluate the overall classification model performance."
   ]
  },
  {
   "cell_type": "code",
   "execution_count": 26,
   "id": "60220b48",
   "metadata": {},
   "outputs": [
    {
     "data": {
      "image/png": "[encoded data removed]",
      "text/plain": [
       "<Figure size 504x360 with 1 Axes>"
      ]
     },
     "metadata": {
      "needs_background": "light"
     },
     "output_type": "display_data"
    }
   ],
   "source": [
    "# ROC Curve and ROC AUC (Area Under Curve)\n",
    "from sklearn.metrics import roc_curve, auc\n",
    "from sklearn.metrics import RocCurveDisplay\n",
    "from numpy import interp\n",
    "\n",
    "lr_pipe = make_pipeline(\n",
    "    StandardScaler(),\n",
    "    PCA(n_components=2),\n",
    "    LR(penalty='l2', C=100.0, random_state=1)\n",
    ")\n",
    "\n",
    "roc_X = X_train[:, [4, 14]]\n",
    "\n",
    "cv = StratifiedKFold(n_splits=3, shuffle=True, random_state=1).split(X_train, y_train)\n",
    "\n",
    "fig, ax = plt.subplots(figsize=(7, 5))\n",
    "mean_tpr = 0.0\n",
    "mean_fpr = np.linspace(0, 1, 100)\n",
    "\n",
    "for i, (train, test) in enumerate(cv):\n",
    "    lr_pipe.fit(roc_X[train], y_train[train])\n",
    "    roc = RocCurveDisplay.from_estimator(lr_pipe, roc_X[test], y_train[test], name=f'Fold {i}', ax=ax)\n",
    "    mean_tpr += interp(mean_fpr, roc.fpr, roc.tpr)\n",
    "    mean_tpr[0] = 0.0\n",
    "\n",
    "plt.plot([0, 1], [0, 1], linestyle='--', color='gray', label='Random guessing')\n",
    "mean_tpr /= 3\n",
    "mean_tpr[-1] = 1.0\n",
    "mean_auc = auc(mean_fpr, mean_tpr)\n",
    "plt.plot(mean_fpr, mean_tpr, linestyle='--', color='black', label='Mean ROC (area = %.2f)' % mean_auc, lw=2)\n",
    "plt.plot([0, 0, 1], [0, 1, 1], linestyle=':', color='black', label='Perfect performance')\n",
    "plt.xlim([-0.05, 1.05])\n",
    "plt.ylim([-0.05, 1.05])\n",
    "plt.xlabel('False positive rate')\n",
    "plt.ylabel('True positive rate')\n",
    "plt.legend(loc='best')\n",
    "plt.tight_layout()\n",
    "plt.show()"
   ]
  }
 ],
 "metadata": {
  "kernelspec": {
   "display_name": "Python 3 (ipykernel)",
   "language": "python",
   "name": "python3"
  },
  "language_info": {
   "codemirror_mode": {
    "name": "ipython",
    "version": 3
   },
   "file_extension": ".py",
   "mimetype": "text/x-python",
   "name": "python",
   "nbconvert_exporter": "python",
   "pygments_lexer": "ipython3",
   "version": "3.7.2"
  },
  "vscode": {
   "interpreter": {
    "hash": "6f5583cf1d9466b5c27e75c89cc6b383bed5736d6b16c51c8074d8690011a952"
   }
  }
 },
 "nbformat": 4,
 "nbformat_minor": 5
}
