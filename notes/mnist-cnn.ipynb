{
  "nbformat": 4,
  "nbformat_minor": 0,
  "metadata": {
    "colab": {
      "provenance": [],
      "authorship_tag": "ABX9TyPBFH3BNynuHZ7UXoWmr/K/",
      "include_colab_link": true
    },
    "kernelspec": {
      "name": "python3",
      "display_name": "Python 3"
    },
    "language_info": {
      "name": "python"
    },
    "accelerator": "GPU",
    "gpuClass": "standard"
  },
  "cells": [
    {
      "cell_type": "markdown",
      "metadata": {
        "id": "view-in-github",
        "colab_type": "text"
      },
      "source": [
        "<a href=\"https://colab.research.google.com/github/jhhan0/self-study-ml/blob/main/notes/mnist-cnn.ipynb\" target=\"_parent\"><img src=\"https://colab.research.google.com/assets/colab-badge.svg\" alt=\"Open In Colab\"/></a>"
      ]
    },
    {
      "cell_type": "markdown",
      "source": [
        "# MNIST Dataset Classification using the Convolutional Neural Network "
      ],
      "metadata": {
        "id": "WWCYygReV4K1"
      }
    },
    {
      "cell_type": "code",
      "execution_count": 12,
      "metadata": {
        "id": "fCHMKrvUiP-U"
      },
      "outputs": [],
      "source": [
        "import tensorflow as tf\n",
        "import tensorflow_datasets as tfds\n",
        "import matplotlib.pyplot as plt"
      ]
    },
    {
      "cell_type": "markdown",
      "source": [
        "Check if this Colab is running with GPU."
      ],
      "metadata": {
        "id": "D6kDiL4SWHbH"
      }
    },
    {
      "cell_type": "code",
      "source": [
        "print(\"Num GPUs Available: \", len(tf.config.list_physical_devices('GPU')))"
      ],
      "metadata": {
        "colab": {
          "base_uri": "https://localhost:8080/"
        },
        "id": "xxN3rSkd7zaF",
        "outputId": "f58364d9-aebc-4c03-a9b6-5e7e4c319ad0"
      },
      "execution_count": 2,
      "outputs": [
        {
          "output_type": "stream",
          "name": "stdout",
          "text": [
            "Num GPUs Available:  1\n"
          ]
        }
      ]
    },
    {
      "cell_type": "code",
      "source": [
        "mnist, info = tfds.load('mnist', with_info=True)"
      ],
      "metadata": {
        "id": "h6BnPjMDifFi"
      },
      "execution_count": 3,
      "outputs": []
    },
    {
      "cell_type": "code",
      "source": [
        "info"
      ],
      "metadata": {
        "colab": {
          "base_uri": "https://localhost:8080/"
        },
        "id": "fij0eVpSWVmM",
        "outputId": "0ef81f66-d823-495e-c318-ce9671f5c98d"
      },
      "execution_count": 4,
      "outputs": [
        {
          "output_type": "execute_result",
          "data": {
            "text/plain": [
              "tfds.core.DatasetInfo(\n",
              "    name='mnist',\n",
              "    full_name='mnist/3.0.1',\n",
              "    description=\"\"\"\n",
              "    The MNIST database of handwritten digits.\n",
              "    \"\"\",\n",
              "    homepage='http://yann.lecun.com/exdb/mnist/',\n",
              "    data_path='/root/tensorflow_datasets/mnist/3.0.1',\n",
              "    file_format=tfrecord,\n",
              "    download_size=11.06 MiB,\n",
              "    dataset_size=21.00 MiB,\n",
              "    features=FeaturesDict({\n",
              "        'image': Image(shape=(28, 28, 1), dtype=uint8),\n",
              "        'label': ClassLabel(shape=(), dtype=int64, num_classes=10),\n",
              "    }),\n",
              "    supervised_keys=('image', 'label'),\n",
              "    disable_shuffling=False,\n",
              "    splits={\n",
              "        'test': <SplitInfo num_examples=10000, num_shards=1>,\n",
              "        'train': <SplitInfo num_examples=60000, num_shards=1>,\n",
              "    },\n",
              "    citation=\"\"\"@article{lecun2010mnist,\n",
              "      title={MNIST handwritten digit database},\n",
              "      author={LeCun, Yann and Cortes, Corinna and Burges, CJ},\n",
              "      journal={ATT Labs [Online]. Available: http://yann.lecun.com/exdb/mnist},\n",
              "      volume={2},\n",
              "      year={2010}\n",
              "    }\"\"\",\n",
              ")"
            ]
          },
          "metadata": {},
          "execution_count": 4
        }
      ]
    },
    {
      "cell_type": "markdown",
      "source": [
        "Normalize the image pixel values to a range between 0.0 to 1.0 for ease of training."
      ],
      "metadata": {
        "id": "UaAMNkBXXH5R"
      }
    },
    {
      "cell_type": "code",
      "source": [
        "train_mnist = mnist['train']\n",
        "test_mnist = mnist['test']\n",
        "\n",
        "train_mnist = train_mnist.map(lambda x: (tf.cast(x['image'], tf.float32) / 255.0, tf.cast(x['label'], tf.uint8)))\n",
        "test_mnist = test_mnist.map(lambda x: (tf.cast(x['image'], tf.float32) / 255.0, tf.cast(x['label'], tf.uint8)))"
      ],
      "metadata": {
        "id": "czIwyNTmi9GH",
        "colab": {
          "base_uri": "https://localhost:8080/"
        },
        "outputId": "957ca088-63c5-45e4-ee97-bd8f9a9ccf15"
      },
      "execution_count": 5,
      "outputs": [
        {
          "output_type": "stream",
          "name": "stderr",
          "text": [
            "WARNING:tensorflow:From /usr/local/lib/python3.9/dist-packages/tensorflow/python/autograph/pyct/static_analysis/liveness.py:83: Analyzer.lamba_check (from tensorflow.python.autograph.pyct.static_analysis.liveness) is deprecated and will be removed after 2023-09-23.\n",
            "Instructions for updating:\n",
            "Lambda fuctions will be no more assumed to be used in the statement where they are used, or at least in the same block. https://github.com/tensorflow/tensorflow/issues/56089\n"
          ]
        }
      ]
    },
    {
      "cell_type": "code",
      "source": [
        "tf.random.set_seed(1)\n",
        "BUFFER_SIZE = 60000\n",
        "BATCH_SIZE = 64\n",
        "EPOCHS = 20\n",
        "\n",
        "train_mnist = train_mnist.cache().shuffle(buffer_size=BUFFER_SIZE).repeat().batch(BATCH_SIZE)\n",
        "test_mnist = test_mnist.batch(BATCH_SIZE)"
      ],
      "metadata": {
        "id": "IS-weNgTj4zQ"
      },
      "execution_count": 6,
      "outputs": []
    },
    {
      "cell_type": "markdown",
      "source": [
        "Create CNN Model using `keras.models.Sequential` with `layers.Conv2D` and `layers.MaxPool2D` layers."
      ],
      "metadata": {
        "id": "IYE8dpQ8cOks"
      }
    },
    {
      "cell_type": "code",
      "source": [
        "cnn_model = tf.keras.models.Sequential([\n",
        "    # conv layer\n",
        "    tf.keras.layers.Conv2D(32, (3, 3), padding='same', data_format='channels_last', name='conv_1', activation='relu'),\n",
        "    # sub-sampling layer\n",
        "    tf.keras.layers.MaxPool2D(pool_size=(2, 2), name='maxpool_1'),\n",
        "    \n",
        "    tf.keras.layers.Conv2D(64, (3, 3), padding='same', data_format='channels_last', name='conv_2', activation='relu'),\n",
        "    tf.keras.layers.MaxPool2D(pool_size=(2, 2), name='maxpool_2'),\n",
        "    \n",
        "    # global average pooling layer to aggregate and take a mean of all feature map values\n",
        "    tf.keras.layers.GlobalAveragePooling2D(),\n",
        "\n",
        "    # flatten into a 1-D vector\n",
        "    tf.keras.layers.Flatten(),\n",
        "    # dense layer\n",
        "    tf.keras.layers.Dense(64, name='dense_1', activation='relu'),\n",
        "    # dropout layer\n",
        "    tf.keras.layers.Dropout(rate=0.5),\n",
        "    # output dense layer\n",
        "    tf.keras.layers.Dense(10, name='dense_2', activation='softmax')\n",
        "])"
      ],
      "metadata": {
        "id": "_Zft4WaSk2JT"
      },
      "execution_count": 7,
      "outputs": []
    },
    {
      "cell_type": "code",
      "source": [
        "cnn_model.build(input_shape=(None, 28, 28, 1))\n",
        "cnn_model.summary()"
      ],
      "metadata": {
        "colab": {
          "base_uri": "https://localhost:8080/"
        },
        "id": "8P-ji5QFoOdp",
        "outputId": "ac487cd6-c885-4de2-bc42-f9fd660311ff"
      },
      "execution_count": 8,
      "outputs": [
        {
          "output_type": "stream",
          "name": "stdout",
          "text": [
            "Model: \"sequential\"\n",
            "_________________________________________________________________\n",
            " Layer (type)                Output Shape              Param #   \n",
            "=================================================================\n",
            " conv_1 (Conv2D)             (None, 28, 28, 32)        320       \n",
            "                                                                 \n",
            " maxpool_1 (MaxPooling2D)    (None, 14, 14, 32)        0         \n",
            "                                                                 \n",
            " conv_2 (Conv2D)             (None, 14, 14, 64)        18496     \n",
            "                                                                 \n",
            " maxpool_2 (MaxPooling2D)    (None, 7, 7, 64)          0         \n",
            "                                                                 \n",
            " global_average_pooling2d (G  (None, 64)               0         \n",
            " lobalAveragePooling2D)                                          \n",
            "                                                                 \n",
            " flatten (Flatten)           (None, 64)                0         \n",
            "                                                                 \n",
            " dense_1 (Dense)             (None, 64)                4160      \n",
            "                                                                 \n",
            " dropout (Dropout)           (None, 64)                0         \n",
            "                                                                 \n",
            " dense_2 (Dense)             (None, 10)                650       \n",
            "                                                                 \n",
            "=================================================================\n",
            "Total params: 23,626\n",
            "Trainable params: 23,626\n",
            "Non-trainable params: 0\n",
            "_________________________________________________________________\n"
          ]
        }
      ]
    },
    {
      "cell_type": "markdown",
      "source": [
        "Compile and train the model."
      ],
      "metadata": {
        "id": "pM0evgWadN5e"
      }
    },
    {
      "cell_type": "code",
      "source": [
        "cnn_model.compile(\n",
        "    optimizer=tf.keras.optimizers.Adam(),\n",
        "    loss=tf.keras.losses.SparseCategoricalCrossentropy(),\n",
        "    metrics=['accuracy']\n",
        ")"
      ],
      "metadata": {
        "id": "wy-T85BZoYRm"
      },
      "execution_count": 9,
      "outputs": []
    },
    {
      "cell_type": "code",
      "source": [
        "STEPS_PER_EPOCHS = (info.splits['train'].num_examples / BATCH_SIZE)\n",
        "history = cnn_model.fit(train_mnist, epochs=EPOCHS, steps_per_epoch=STEPS_PER_EPOCHS)"
      ],
      "metadata": {
        "colab": {
          "base_uri": "https://localhost:8080/"
        },
        "id": "JK343LkApCx2",
        "outputId": "bf6dd71e-062a-4684-b946-d13f7b53b193"
      },
      "execution_count": 10,
      "outputs": [
        {
          "output_type": "stream",
          "name": "stdout",
          "text": [
            "Epoch 1/20\n",
            "937/937 [==============================] - 20s 5ms/step - loss: 1.5499 - accuracy: 0.4280\n",
            "Epoch 2/20\n",
            "937/937 [==============================] - 4s 4ms/step - loss: 0.8991 - accuracy: 0.6952\n",
            "Epoch 3/20\n",
            "937/937 [==============================] - 4s 5ms/step - loss: 0.7065 - accuracy: 0.7680\n",
            "Epoch 4/20\n",
            "937/937 [==============================] - 4s 4ms/step - loss: 0.5941 - accuracy: 0.8105\n",
            "Epoch 5/20\n",
            "937/937 [==============================] - 4s 4ms/step - loss: 0.5270 - accuracy: 0.8347\n",
            "Epoch 6/20\n",
            "937/937 [==============================] - 5s 5ms/step - loss: 0.4777 - accuracy: 0.8511\n",
            "Epoch 7/20\n",
            "937/937 [==============================] - 4s 4ms/step - loss: 0.4427 - accuracy: 0.8636\n",
            "Epoch 8/20\n",
            "937/937 [==============================] - 4s 4ms/step - loss: 0.4148 - accuracy: 0.8715\n",
            "Epoch 9/20\n",
            "937/937 [==============================] - 5s 5ms/step - loss: 0.3953 - accuracy: 0.8773\n",
            "Epoch 10/20\n",
            "937/937 [==============================] - 5s 5ms/step - loss: 0.3774 - accuracy: 0.8848\n",
            "Epoch 11/20\n",
            "937/937 [==============================] - 4s 4ms/step - loss: 0.3570 - accuracy: 0.8907\n",
            "Epoch 12/20\n",
            "937/937 [==============================] - 5s 5ms/step - loss: 0.3393 - accuracy: 0.8967\n",
            "Epoch 13/20\n",
            "937/937 [==============================] - 4s 4ms/step - loss: 0.3210 - accuracy: 0.9020\n",
            "Epoch 14/20\n",
            "937/937 [==============================] - 4s 5ms/step - loss: 0.3135 - accuracy: 0.9054\n",
            "Epoch 15/20\n",
            "937/937 [==============================] - 4s 5ms/step - loss: 0.3009 - accuracy: 0.9095\n",
            "Epoch 16/20\n",
            "937/937 [==============================] - 4s 4ms/step - loss: 0.2881 - accuracy: 0.9134\n",
            "Epoch 17/20\n",
            "937/937 [==============================] - 5s 5ms/step - loss: 0.2805 - accuracy: 0.9140\n",
            "Epoch 18/20\n",
            "937/937 [==============================] - 4s 5ms/step - loss: 0.2719 - accuracy: 0.9170\n",
            "Epoch 19/20\n",
            "937/937 [==============================] - 4s 4ms/step - loss: 0.2606 - accuracy: 0.9203\n",
            "Epoch 20/20\n",
            "937/937 [==============================] - 5s 5ms/step - loss: 0.2577 - accuracy: 0.9223\n"
          ]
        }
      ]
    },
    {
      "cell_type": "markdown",
      "source": [
        "This section for save and load the model that was previously trained above."
      ],
      "metadata": {
        "id": "b6M_GvpLfAYg"
      }
    },
    {
      "cell_type": "code",
      "source": [
        "# cnn_model.save('cnn_model_mnist.h5', overwrite=True, include_optimizer=True, save_format='h5')"
      ],
      "metadata": {
        "id": "NY52twtvpm1P"
      },
      "execution_count": null,
      "outputs": []
    },
    {
      "cell_type": "code",
      "source": [
        "# new_model = tf.keras.models.load_model('cnn_model_mnist.h5')"
      ],
      "metadata": {
        "id": "01yR5g6P0DSt"
      },
      "execution_count": null,
      "outputs": []
    },
    {
      "cell_type": "code",
      "source": [
        "# new_model.summary()"
      ],
      "metadata": {
        "colab": {
          "base_uri": "https://localhost:8080/"
        },
        "id": "b3nMgw010NI-",
        "outputId": "dfcaffeb-b1aa-48d0-b9c0-71250dacd768"
      },
      "execution_count": null,
      "outputs": [
        {
          "output_type": "stream",
          "name": "stdout",
          "text": [
            "Model: \"sequential\"\n",
            "_________________________________________________________________\n",
            " Layer (type)                Output Shape              Param #   \n",
            "=================================================================\n",
            " conv_1 (Conv2D)             (None, 28, 28, 32)        320       \n",
            "                                                                 \n",
            " maxpool_1 (MaxPooling2D)    (None, 14, 14, 32)        0         \n",
            "                                                                 \n",
            " conv_2 (Conv2D)             (None, 14, 14, 64)        18496     \n",
            "                                                                 \n",
            " maxpool_2 (MaxPooling2D)    (None, 7, 7, 64)          0         \n",
            "                                                                 \n",
            " global_average_pooling2d (G  (None, 64)               0         \n",
            " lobalAveragePooling2D)                                          \n",
            "                                                                 \n",
            " flatten (Flatten)           (None, 64)                0         \n",
            "                                                                 \n",
            " dense_1 (Dense)             (None, 64)                4160      \n",
            "                                                                 \n",
            " dropout (Dropout)           (None, 64)                0         \n",
            "                                                                 \n",
            " dense_2 (Dense)             (None, 10)                650       \n",
            "                                                                 \n",
            "=================================================================\n",
            "Total params: 23,626\n",
            "Trainable params: 23,626\n",
            "Non-trainable params: 0\n",
            "_________________________________________________________________\n"
          ]
        }
      ]
    },
    {
      "cell_type": "markdown",
      "source": [
        "Evaluate the model using the test dataset which they are the unseen data while training the model."
      ],
      "metadata": {
        "id": "zViiAg7-febI"
      }
    },
    {
      "cell_type": "code",
      "source": [
        "result = cnn_model.evaluate(test_mnist)\n",
        "print('Eval loss: {}, Eval acc: {}'.format(*result))"
      ],
      "metadata": {
        "colab": {
          "base_uri": "https://localhost:8080/"
        },
        "id": "uNNo_Ctq0PLh",
        "outputId": "45f51a93-2674-4151-a6eb-8ad1202d158b"
      },
      "execution_count": 11,
      "outputs": [
        {
          "output_type": "stream",
          "name": "stdout",
          "text": [
            "157/157 [==============================] - 1s 8ms/step - loss: 0.1087 - accuracy: 0.9677\n",
            "Eval loss: 0.10865984857082367, Eval acc: 0.9677000045776367\n"
          ]
        }
      ]
    },
    {
      "cell_type": "code",
      "source": [
        "hist = history.history\n",
        "plt.figure(figsize=(12, 8))\n",
        "\n",
        "# plot loss\n",
        "plt.subplot(1, 2, 1)\n",
        "plt.plot(hist['loss'], label='Training loss')\n",
        "# plt.plot(hist['val_loss'], label='val loss')\n",
        "plt.legend(loc='upper right', fontsize=15)\n",
        "plt.tight_layout()\n",
        "\n",
        "# plot accuracy\n",
        "plt.subplot(1, 2, 2)\n",
        "plt.plot(hist['accuracy'], label='Training acc')\n",
        "# plt.plot(hist['val_accuracy'], label='val acc')\n",
        "plt.legend(loc='lower right', fontsize=15)\n",
        "plt.tight_layout()\n",
        "\n",
        "plt.show()"
      ],
      "metadata": {
        "colab": {
          "base_uri": "https://localhost:8080/",
          "height": 585
        },
        "id": "z44sZ2u_2UT0",
        "outputId": "8d288e15-0932-46ed-fb22-3fe7436f2d0f"
      },
      "execution_count": 15,
      "outputs": [
        {
          "output_type": "display_data",
          "data": {
            "text/plain": [
              "<Figure size 864x576 with 2 Axes>"
            ],
            "image/png": "[encoded data removed]"
          },
          "metadata": {
            "needs_background": "light"
          }
        }
      ]
    },
    {
      "cell_type": "markdown",
      "source": [
        "Display 10 mnist images with its correct label and predicted value from the model."
      ],
      "metadata": {
        "id": "uJ_Jfk9cgtqW"
      }
    },
    {
      "cell_type": "code",
      "source": [
        "# first, unbatch the test dataset\n",
        "test_mnist = test_mnist.unbatch()"
      ],
      "metadata": {
        "id": "bsq359PNg3hP"
      },
      "execution_count": 16,
      "outputs": []
    },
    {
      "cell_type": "code",
      "source": [
        "test_mnist = test_mnist.batch(10)"
      ],
      "metadata": {
        "id": "0GqSPS-Z3oA8"
      },
      "execution_count": 19,
      "outputs": []
    },
    {
      "cell_type": "code",
      "source": [
        "# else you can use tf.data.Datset.rebatch() to rebatch the test dataset as well\n",
        "# test_mnist = test_mnist.rebatch(10)"
      ],
      "metadata": {
        "id": "Y6_SLL8NinJg"
      },
      "execution_count": null,
      "outputs": []
    },
    {
      "cell_type": "code",
      "source": [
        "samples = next(iter(test_mnist))"
      ],
      "metadata": {
        "id": "jMcnyMai4qRo"
      },
      "execution_count": 21,
      "outputs": []
    },
    {
      "cell_type": "code",
      "source": [
        "preds = tf.argmax(cnn_model.predict(samples[0]), axis=1)\n",
        "print(preds)"
      ],
      "metadata": {
        "colab": {
          "base_uri": "https://localhost:8080/"
        },
        "id": "tpv17XzK57u7",
        "outputId": "c0792b40-e05b-421d-c4b2-c2a9daeecc99"
      },
      "execution_count": 22,
      "outputs": [
        {
          "output_type": "stream",
          "name": "stdout",
          "text": [
            "1/1 [==============================] - 0s 141ms/step\n",
            "tf.Tensor([2 0 4 8 7 6 0 6 3 1], shape=(10,), dtype=int64)\n"
          ]
        }
      ]
    },
    {
      "cell_type": "code",
      "source": [
        "fig = plt.figure(figsize=(12, 4))\n",
        "for i in range(10):\n",
        "  ax = fig.add_subplot(2, 5, i+1)\n",
        "  ax.set_title('Correct {}'.format(samples[1].numpy()[i]), size=10, color='blue')\n",
        "  img = samples[0][i, :, :, 0]\n",
        "  ax.set_xticks([])\n",
        "  ax.set_yticks([])\n",
        "  ax.imshow(img, cmap='gray')\n",
        "  ax.text(0.9, 0.1, '{}'.format(preds[i]), size=10, color='red', horizontalalignment='center', verticalalignment='center', transform=ax.transAxes)\n",
        "plt.show()"
      ],
      "metadata": {
        "colab": {
          "base_uri": "https://localhost:8080/",
          "height": 262
        },
        "id": "Wotg6Br96eCF",
        "outputId": "f34d9948-7cf5-4954-91c7-0d9d7d48e384"
      },
      "execution_count": 23,
      "outputs": [
        {
          "output_type": "display_data",
          "data": {
            "text/plain": [
              "<Figure size 864x288 with 10 Axes>"
            ],
            "image/png": "[encoded data removed]"
          },
          "metadata": {}
        }
      ]
    }
  ]
}