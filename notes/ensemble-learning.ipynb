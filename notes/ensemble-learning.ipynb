{
 "cells": [
  {
   "cell_type": "markdown",
   "id": "9c1f58a7",
   "metadata": {},
   "source": [
    "# Ensemble Learning\n",
    "\n",
    "Ensemble learning method is to put a lot of classifiers together to enhance the model performance."
   ]
  },
  {
   "cell_type": "code",
   "execution_count": 1,
   "id": "9bf37407",
   "metadata": {},
   "outputs": [],
   "source": [
    "import numpy as np\n",
    "import pandas as pd\n",
    "import matplotlib.pyplot as plt"
   ]
  },
  {
   "cell_type": "markdown",
   "id": "48e20e9a",
   "metadata": {},
   "source": [
    "## Load the Iris Flower Dataset"
   ]
  },
  {
   "cell_type": "code",
   "execution_count": 2,
   "id": "0b09a215",
   "metadata": {},
   "outputs": [],
   "source": [
    "from sklearn import datasets\n",
    "from sklearn.preprocessing import LabelEncoder\n",
    "from sklearn.model_selection import train_test_split\n",
    "\n",
    "iris = datasets.load_iris()\n",
    "X, y = iris.data[50:, [1, 2]], iris.target[50:]\n",
    "le = LabelEncoder()\n",
    "y = le.fit_transform(y)\n",
    "\n",
    "X_train, X_test, y_train, y_test = train_test_split(X, y, test_size=0.5, stratify=y, random_state=1)"
   ]
  },
  {
   "cell_type": "markdown",
   "id": "1b666add",
   "metadata": {},
   "source": [
    "## Understanding Ensemble Learning\n",
    "\n",
    "The goal of **ensemble learning** algorithm is to achieve better generalization performance than an individual classifier by connecting several classifiers together. The **majority voting** (**plurality voting** for multi-classification problem) is a method that simply selecting a class label that acquires a majority of prediction.\n",
    "<br><center>$prediction = mode[{C_1(x), C_2(x), ... , C_m(x)}]$ where $C_j$ is the $j$-th classifier.</center>"
   ]
  },
  {
   "cell_type": "code",
   "execution_count": 3,
   "id": "2b145e64",
   "metadata": {
    "scrolled": true
   },
   "outputs": [],
   "source": [
    "from sklearn.base import BaseEstimator\n",
    "from sklearn.base import ClassifierMixin\n",
    "from sklearn.base import clone\n",
    "from sklearn.pipeline import _name_estimators\n",
    "import operator\n",
    "import six\n",
    "\n",
    "class MajorityVoteClassifier(BaseEstimator, ClassifierMixin):\n",
    "    # General majority voting ensemble classifier\n",
    "    \n",
    "    def __init__(self, classifiers, vote='label', weights=None):\n",
    "        # parameters:\n",
    "        # classifiers: list; shape = [n_classifiers];\n",
    "        # vote: string, {'label', 'probability'}, default='label';\n",
    "            # - If 'label', return an index of class label that has a majority of prediction. \n",
    "            # - If 'probability', return an index of class label that has the higher probability summation.\n",
    "        # weights: list, default=None; shape = [n_classifiers];\n",
    "            # - Optional, if a list of 'int' or 'float' is given, the classifier utilizes as an importance weights.\n",
    "            # - None means the weights are all equal.\n",
    "        \n",
    "        self.classifiers = classifiers\n",
    "        self.vote = vote\n",
    "        self.weights = weights\n",
    "        self.named_classifiers = {k: v for k, v in _name_estimators(classifiers)}\n",
    "    \n",
    "    def fit(self, X, y):\n",
    "        # parameters:\n",
    "        # X: numpy ndarray, shape = [n_samples, n_features];\n",
    "            # - training data\n",
    "        # y: numpy ndarray, shape = [n_samples];\n",
    "            # - target data\n",
    "        \n",
    "        # return:\n",
    "        # self: object;\n",
    "        \n",
    "        if self.vote not in {'label', 'probability'}:\n",
    "            raise ValueError(\"'%r' is not either 'label' or 'probability'.\" % self.vote)\n",
    "        if self.weights and len(self.weights) != len(self.classifiers):\n",
    "            raise ValueError(\"The number of classifers and weights should be identical.\")\n",
    "        \n",
    "        self.le_ = LabelEncoder()\n",
    "        self.le_.fit_transform(y)\n",
    "        self.classes_ = self.le_.classes_\n",
    "        self.classifiers_ = []\n",
    "        for clf in self.classifiers:\n",
    "            fit_clf = clone(clf).fit(X, y)\n",
    "            self.classifiers_.append(fit_clf)\n",
    "        return self\n",
    "        \n",
    "    def predict(self, X):\n",
    "        # parameters\n",
    "        # X: numpy ndarray, shape = [n_samples, n_features];\n",
    "            # - training data\n",
    "        \n",
    "        # return:\n",
    "        # maj_vote: list; shape = [n_samples];\n",
    "            # - predicted label\n",
    "        \n",
    "        if self.vote == 'probability':\n",
    "            maj_vote = np.argmax(self.predict_proba(x), axis=1)\n",
    "            \n",
    "        else: # self.vote == 'label'\n",
    "            predictions = np.asarray([clf.predict(X) for clf in self.classifiers_]).T\n",
    "            maj_vote = np.apply_along_axis(lambda x: np.argmax(np.bincount(x, weights=self.weights)), axis=1, arr=predictions)\n",
    "        maj_vote = self.le_.inverse_transform(maj_vote)\n",
    "        return maj_vote\n",
    "    \n",
    "    def predict_proba(self, X):\n",
    "        # parameters\n",
    "        # X: numpy ndarray, shape = [n_samples, n_features];\n",
    "            # - training data\n",
    "        \n",
    "        # return:\n",
    "        # avg_proba: numpy ndarray; shape = [n_samples, n_classes];\n",
    "            # - average probability of classes \n",
    "        \n",
    "        probabilities = np.asarray([clf.predict_proba(X) for clf in self.classifiers_])\n",
    "        avg_proba = np.average(probabilities, axis=0, weights=self.weights)\n",
    "        return avg_proba\n",
    "    \n",
    "    def get_params(self, deep=True):\n",
    "        if not deep:\n",
    "            return super(MajorityVoteClassifier, self).get_params(deep=False)\n",
    "        else:\n",
    "            out = self.named_classifiers.copy()\n",
    "            for name, step in six.iteritems(self.named_classifiers):\n",
    "                for key, value in six.iteritems(step.get_params(deep=True)):\n",
    "                    out['%s__%s' % (name, key)] = value\n",
    "            return out\n",
    "    "
   ]
  },
  {
   "cell_type": "markdown",
   "id": "e3e67651",
   "metadata": {},
   "source": [
    "Use three different classifiers to compare their performances:\n",
    "- Logistic regression classifier\n",
    "- Decision tree classifier\n",
    "- K-nearest neighbors classifier"
   ]
  },
  {
   "cell_type": "code",
   "execution_count": 4,
   "id": "98ee8101",
   "metadata": {},
   "outputs": [
    {
     "name": "stdout",
     "output_type": "stream",
     "text": [
      "ROC AUC: 0.92 (+/- 0.15) [Logistic Regression]\n",
      "ROC AUC: 0.87 (+/- 0.18) [Decision Tree]\n",
      "ROC AUC: 0.85 (+/- 0.13) [K-Nearest Neighbors]\n"
     ]
    }
   ],
   "source": [
    "from sklearn.model_selection import cross_val_score\n",
    "from sklearn.linear_model import LogisticRegression\n",
    "from sklearn.tree import DecisionTreeClassifier\n",
    "from sklearn.neighbors import KNeighborsClassifier\n",
    "from sklearn.pipeline import Pipeline\n",
    "from sklearn.preprocessing import StandardScaler\n",
    "\n",
    "lr = LogisticRegression(penalty='l2', C=0.001, random_state=1)\n",
    "dt = DecisionTreeClassifier(max_depth=1, criterion='entropy', random_state=0)\n",
    "knn = KNeighborsClassifier(n_neighbors=1, p=2, metric='minkowski')\n",
    "\n",
    "lr_pipe = Pipeline([['sc', StandardScaler()], ['lr', lr]])\n",
    "knn_pipe = Pipeline([['sc', StandardScaler()], ['knn', knn]])\n",
    "clfs = [lr_pipe, dt, knn_pipe]\n",
    "clf_labels = ['Logistic Regression', 'Decision Tree', 'K-Nearest Neighbors']\n",
    "\n",
    "for clf, label in zip(clfs, clf_labels):\n",
    "    scores = cross_val_score(estimator=clf, X=X_train, y=y_train, cv=10, scoring='roc_auc')\n",
    "    print(\"ROC AUC: %0.2f (+/- %0.2f) [%s]\" % (scores.mean(), scores.std(), label))"
   ]
  },
  {
   "cell_type": "markdown",
   "id": "a49216db",
   "metadata": {},
   "source": [
    "Use ```MajorityVoteClassifier``` to put together all three classifiers defined above (logistic regression, decision tree, k-nearest neighbor) and compare their performances."
   ]
  },
  {
   "cell_type": "code",
   "execution_count": 5,
   "id": "ad805340",
   "metadata": {},
   "outputs": [
    {
     "name": "stdout",
     "output_type": "stream",
     "text": [
      "ROC AUC: 0.92 (+/- 0.15) [Logistic Regression]\n",
      "ROC AUC: 0.87 (+/- 0.18) [Decision Tree]\n",
      "ROC AUC: 0.85 (+/- 0.13) [K-Nearest Neighbors]\n",
      "ROC AUC: 0.98 (+/- 0.05) [Majority Voting]\n"
     ]
    }
   ],
   "source": [
    "mv = MajorityVoteClassifier(classifiers=[lr_pipe, dt, knn_pipe])\n",
    "clf_labels += ['Majority Voting']\n",
    "clfs = [lr_pipe, dt, knn_pipe, mv]\n",
    "\n",
    "for clf, label in zip(clfs, clf_labels):\n",
    "    scores = cross_val_score(estimator=clf, X=X_train, y=y_train, cv=10, scoring='roc_auc')\n",
    "    print(\"ROC AUC: %0.2f (+/- %0.2f) [%s]\" % (scores.mean(), scores.std(), label))"
   ]
  },
  {
   "cell_type": "markdown",
   "id": "0b9378b6",
   "metadata": {},
   "source": [
    "In the below code, it uses scikit-learn's built-in class ```sklearn.ensemble.VotingClassifier``` instead of the ```MajorityVoteClassifier``` class that we implemented."
   ]
  },
  {
   "cell_type": "code",
   "execution_count": 6,
   "id": "7bf982ec",
   "metadata": {
    "scrolled": true
   },
   "outputs": [
    {
     "name": "stdout",
     "output_type": "stream",
     "text": [
      "ROC AUC: 0.98 (+/- 0.05) [VotingClassifier]\n"
     ]
    }
   ],
   "source": [
    "from sklearn.ensemble import VotingClassifier\n",
    "\n",
    "vc = VotingClassifier(estimators=[('lr', lr_pipe), ('dt', dt), ('knn', knn_pipe)], voting='soft')\n",
    "scores = cross_val_score(estimator=vc, X=X_train, y=y_train, cv=10, scoring='roc_auc')\n",
    "print(\"ROC AUC: %0.2f (+/- %0.2f) [%s]\" % (scores.mean(), scores.std(), 'VotingClassifier'))"
   ]
  },
  {
   "cell_type": "code",
   "execution_count": 7,
   "id": "62c82417",
   "metadata": {},
   "outputs": [
    {
     "data": {
      "image/png": "[encoded data removed]",
      "text/plain": [
       "<Figure size 432x288 with 1 Axes>"
      ]
     },
     "metadata": {
      "needs_background": "light"
     },
     "output_type": "display_data"
    }
   ],
   "source": [
    "from sklearn.metrics import roc_curve\n",
    "from sklearn.metrics import auc\n",
    "colors = ['black', 'orange', 'blue', 'green']\n",
    "linestyles = [':', '--', '-.', '-']\n",
    "\n",
    "for clf, label, color, ls in zip(clfs, clf_labels, colors, linestyles):\n",
    "    # assume positive class label as 1\n",
    "    y_pred = clf.fit(X_train, y_train).predict_proba(X_test)[:, 1]\n",
    "    fpr, tpr, thresholds = roc_curve(y_true=y_test, y_score=y_pred)\n",
    "    roc_auc = auc(fpr, tpr)\n",
    "    plt.plot(fpr, tpr, color=color, linestyle=ls, label='%s (auc = %.2f)' % (label, roc_auc))\n",
    "plt.legend(loc='best')\n",
    "plt.plot([0, 1], [0, 1], linestyle='--', color='grey', linewidth=2)\n",
    "plt.xlim([-0.1, 1.1])\n",
    "plt.ylim([-0.1, 1.1])\n",
    "plt.grid(alpha=0.3)\n",
    "plt.xlabel('False Positive Rate (FPR)')\n",
    "plt.ylabel('True Positive Rate (TPR)')\n",
    "plt.show()"
   ]
  },
  {
   "cell_type": "markdown",
   "id": "69b734e6",
   "metadata": {},
   "source": [
    "Let's look at the decision boundary of an ensemble."
   ]
  },
  {
   "cell_type": "code",
   "execution_count": 8,
   "id": "fb71f748",
   "metadata": {},
   "outputs": [
    {
     "data": {
      "image/png": "[encoded data removed]",
      "text/plain": [
       "<Figure size 504x360 with 4 Axes>"
      ]
     },
     "metadata": {
      "needs_background": "light"
     },
     "output_type": "display_data"
    }
   ],
   "source": [
    "from itertools import product\n",
    "\n",
    "sc = StandardScaler()\n",
    "X_train_std = sc.fit_transform(X_train)\n",
    "\n",
    "x1_min, x1_max = X_train_std[:, 0].min(), X_train_std[:, 0].max()\n",
    "x2_min, x2_max = X_train_std[:, 1].min(), X_train_std[:, 1].max()\n",
    "x1_coordinates, x2_coordinates = np.meshgrid(\n",
    "    np.arange(x1_min - 1, x1_max + 1, 0.1),\n",
    "    np.arange(x2_min - 1, x2_max + 1, 0.1)\n",
    ")\n",
    "\n",
    "f, axarr = plt.subplots(nrows=2, ncols=2, sharex='col', sharey='row', figsize=(7, 5))\n",
    "for idx, clf, title in zip(product([0, 1], [0, 1]), clfs, clf_labels):\n",
    "    clf.fit(X_train_std, y_train)\n",
    "    Z = clf.predict(np.column_stack([x1_coordinates.ravel(), x2_coordinates.ravel()]))\n",
    "    Z = Z.reshape(x1_coordinates.shape)\n",
    "    axarr[idx[0], idx[1]].contourf(x1_coordinates, x2_coordinates, Z, alpha=0.3)\n",
    "    axarr[idx[0], idx[1]].scatter(X_train_std[y_train == 0, 0], X_train_std[y_train == 0, 1], c='blue', marker='^', s=50)\n",
    "    axarr[idx[0], idx[1]].scatter(X_train_std[y_train == 1, 0], X_train_std[y_train == 1, 1], c='green', marker='o', s=50)\n",
    "    axarr[idx[0], idx[1]].set_title(title)\n",
    "plt.text(-3.5, -5, s='sepal width (standardized)', ha='center', va='center', fontsize=12)\n",
    "plt.text(-12.5, 4.5, s='petal length (standardized)', ha='center', va='center', fontsize=12, rotation=90)\n",
    "plt.show()"
   ]
  },
  {
   "cell_type": "code",
   "execution_count": 9,
   "id": "9f743511",
   "metadata": {
    "scrolled": false
   },
   "outputs": [
    {
     "data": {
      "text/plain": [
       "{'pipeline-1': Pipeline(steps=[('sc', StandardScaler()),\n",
       "                 ['lr', LogisticRegression(C=0.001, random_state=1)]]),\n",
       " 'decisiontreeclassifier': DecisionTreeClassifier(criterion='entropy', max_depth=1, random_state=0),\n",
       " 'pipeline-2': Pipeline(steps=[('sc', StandardScaler()),\n",
       "                 ['knn', KNeighborsClassifier(n_neighbors=1)]]),\n",
       " 'pipeline-1__memory': None,\n",
       " 'pipeline-1__steps': [('sc', StandardScaler()),\n",
       "  ['lr', LogisticRegression(C=0.001, random_state=1)]],\n",
       " 'pipeline-1__verbose': False,\n",
       " 'pipeline-1__sc': StandardScaler(),\n",
       " 'pipeline-1__lr': LogisticRegression(C=0.001, random_state=1),\n",
       " 'pipeline-1__sc__copy': True,\n",
       " 'pipeline-1__sc__with_mean': True,\n",
       " 'pipeline-1__sc__with_std': True,\n",
       " 'pipeline-1__lr__C': 0.001,\n",
       " 'pipeline-1__lr__class_weight': None,\n",
       " 'pipeline-1__lr__dual': False,\n",
       " 'pipeline-1__lr__fit_intercept': True,\n",
       " 'pipeline-1__lr__intercept_scaling': 1,\n",
       " 'pipeline-1__lr__l1_ratio': None,\n",
       " 'pipeline-1__lr__max_iter': 100,\n",
       " 'pipeline-1__lr__multi_class': 'auto',\n",
       " 'pipeline-1__lr__n_jobs': None,\n",
       " 'pipeline-1__lr__penalty': 'l2',\n",
       " 'pipeline-1__lr__random_state': 1,\n",
       " 'pipeline-1__lr__solver': 'lbfgs',\n",
       " 'pipeline-1__lr__tol': 0.0001,\n",
       " 'pipeline-1__lr__verbose': 0,\n",
       " 'pipeline-1__lr__warm_start': False,\n",
       " 'decisiontreeclassifier__ccp_alpha': 0.0,\n",
       " 'decisiontreeclassifier__class_weight': None,\n",
       " 'decisiontreeclassifier__criterion': 'entropy',\n",
       " 'decisiontreeclassifier__max_depth': 1,\n",
       " 'decisiontreeclassifier__max_features': None,\n",
       " 'decisiontreeclassifier__max_leaf_nodes': None,\n",
       " 'decisiontreeclassifier__min_impurity_decrease': 0.0,\n",
       " 'decisiontreeclassifier__min_samples_leaf': 1,\n",
       " 'decisiontreeclassifier__min_samples_split': 2,\n",
       " 'decisiontreeclassifier__min_weight_fraction_leaf': 0.0,\n",
       " 'decisiontreeclassifier__random_state': 0,\n",
       " 'decisiontreeclassifier__splitter': 'best',\n",
       " 'pipeline-2__memory': None,\n",
       " 'pipeline-2__steps': [('sc', StandardScaler()),\n",
       "  ['knn', KNeighborsClassifier(n_neighbors=1)]],\n",
       " 'pipeline-2__verbose': False,\n",
       " 'pipeline-2__sc': StandardScaler(),\n",
       " 'pipeline-2__knn': KNeighborsClassifier(n_neighbors=1),\n",
       " 'pipeline-2__sc__copy': True,\n",
       " 'pipeline-2__sc__with_mean': True,\n",
       " 'pipeline-2__sc__with_std': True,\n",
       " 'pipeline-2__knn__algorithm': 'auto',\n",
       " 'pipeline-2__knn__leaf_size': 30,\n",
       " 'pipeline-2__knn__metric': 'minkowski',\n",
       " 'pipeline-2__knn__metric_params': None,\n",
       " 'pipeline-2__knn__n_jobs': None,\n",
       " 'pipeline-2__knn__n_neighbors': 1,\n",
       " 'pipeline-2__knn__p': 2,\n",
       " 'pipeline-2__knn__weights': 'uniform'}"
      ]
     },
     "execution_count": 9,
     "metadata": {},
     "output_type": "execute_result"
    }
   ],
   "source": [
    "mv.get_params()"
   ]
  },
  {
   "cell_type": "markdown",
   "id": "b65dd50e",
   "metadata": {},
   "source": [
    "## Bagging\n",
    "\n",
    "Bagging, one of the ensemble learning methods, uses **bootstrap samples** (random samples **with replacement**) instead of the identical entire training dataset to train classifiers in an ensemble. Then, it aggregates each individual predictions by majority voting to output a final decision. For more details about a bagging classifier, visit [scikit-learn.org about BaggingClassifier](https://scikit-learn.org/stable/modules/generated/sklearn.ensemble.BaggingClassifier.html)."
   ]
  },
  {
   "cell_type": "code",
   "execution_count": 10,
   "id": "108d11a6",
   "metadata": {},
   "outputs": [],
   "source": [
    "import pandas as pd\n",
    "\n",
    "wine_df = pd.read_csv('./data/wine.data', header=None)\n",
    "wine_df.columns = ['label', 'alcohol', 'malic acid', 'ash', 'alcalinity of ash', 'magnesium', 'total phenols',\n",
    "                  'flavanoids', 'nonflavanoid phenols', 'proanthocyanins', 'color intensity', 'hue',\n",
    "                   '0D280/0D315 of diluted wines', 'proline']\n",
    "\n",
    "# use label 2 and 3, feature 'alcohol' and '0D280/0D315 of diluted wines' to display decision boundary later\n",
    "wine_df = wine_df[wine_df['label'] != 1]\n",
    "X = wine_df[['alcohol', '0D280/0D315 of diluted wines']].to_numpy()\n",
    "y = wine_df['label'].to_numpy()\n",
    "\n",
    "le = LabelEncoder()\n",
    "y = le.fit_transform(y)\n",
    "X_train, X_test, y_train, y_test = train_test_split(X, y, test_size=0.2, stratify=y, random_state=1)"
   ]
  },
  {
   "cell_type": "code",
   "execution_count": 11,
   "id": "4f7a3294",
   "metadata": {},
   "outputs": [],
   "source": [
    "from sklearn.ensemble import BaggingClassifier\n",
    "\n",
    "tree = DecisionTreeClassifier(criterion='entropy', random_state=1, max_depth=None)\n",
    "\n",
    "bag = BaggingClassifier(base_estimator=tree, n_estimators=500, random_state=1, n_jobs=-1)"
   ]
  },
  {
   "cell_type": "markdown",
   "id": "2a9eb13a",
   "metadata": {},
   "source": [
    "Compare the prediction performance between a non-pruning decision tree and bagging classifier."
   ]
  },
  {
   "cell_type": "code",
   "execution_count": 12,
   "id": "bead3f2e",
   "metadata": {},
   "outputs": [
    {
     "name": "stdout",
     "output_type": "stream",
     "text": [
      "Train accuracy: 1.000 / Test accuarcy: 0.833\n"
     ]
    }
   ],
   "source": [
    "tree.fit(X_train, y_train)\n",
    "print('Train accuracy: %.3f / Test accuarcy: %.3f' % (tree.score(X_train, y_train), tree.score(X_test, y_test)))"
   ]
  },
  {
   "cell_type": "code",
   "execution_count": 13,
   "id": "ab4ec5e4",
   "metadata": {},
   "outputs": [
    {
     "name": "stdout",
     "output_type": "stream",
     "text": [
      "Train accuracy: 1.000 / Test accuarcy: 0.917\n"
     ]
    }
   ],
   "source": [
    "bag.fit(X_train, y_train)\n",
    "print('Train accuracy: %.3f / Test accuarcy: %.3f' % (bag.score(X_train, y_train), bag.score(X_test, y_test)))"
   ]
  },
  {
   "cell_type": "code",
   "execution_count": 14,
   "id": "f886e051",
   "metadata": {
    "scrolled": true
   },
   "outputs": [
    {
     "data": {
      "image/png": "[encoded data removed]",
      "text/plain": [
       "<Figure size 576x216 with 2 Axes>"
      ]
     },
     "metadata": {
      "needs_background": "light"
     },
     "output_type": "display_data"
    }
   ],
   "source": [
    "x1_min, x1_max = X_train[:, 0].min(), X_train[:, 0].max()\n",
    "x2_min, x2_max = X_train[:, 1].min(), X_train[:, 1].max()\n",
    "x1_coordinates, x2_coordinates = np.meshgrid(\n",
    "    np.arange(x1_min - 1, x1_max + 1, 0.1),\n",
    "    np.arange(x2_min - 1, x2_max + 1, 0.1)\n",
    ")\n",
    "\n",
    "f, axarr = plt.subplots(nrows=1, ncols=2, sharex='col', sharey='row', figsize=(8, 3))\n",
    "for idx, clf, title in zip([0, 1], [tree, bag], ['Decision Tree', 'Bagging Classifier']):\n",
    "    clf.fit(X_train, y_train)\n",
    "    Z = clf.predict(np.column_stack([x1_coordinates.ravel(), x2_coordinates.ravel()]))\n",
    "    Z = Z.reshape(x1_coordinates.shape)\n",
    "    axarr[idx].contourf(x1_coordinates, x2_coordinates, Z, alpha=0.3)\n",
    "    axarr[idx].scatter(X_train[y_train == 0, 0], X_train[y_train == 0, 1], c='blue', marker='^', s=50)\n",
    "    axarr[idx].scatter(X_train[y_train == 1, 0], X_train[y_train == 1, 1], c='green', marker='o', s=50)\n",
    "    axarr[idx].set_title(title)\n",
    "plt.tight_layout()\n",
    "axarr[0].set_ylabel('alcohol', fontsize=12)\n",
    "plt.text(0, -0.2, s='0D280/0D315 of diluted wines', ha='center', va='center', fontsize=12, transform=axarr[1].transAxes)\n",
    "plt.show()"
   ]
  },
  {
   "cell_type": "markdown",
   "id": "046ef218",
   "metadata": {},
   "source": [
    "## Adaboost\n",
    "\n",
    "Adaboost, short for Adaptive Boosting, is one of the boosting methods that comprises a set of **weak learners** as an ensemble. One of the typical examples of weak learner is a decision tree of depth 1. The main idea of boosting is to focus on the samples that are difficult to distinguish the label. The incorrectly classified samples from the preceded weak learner are trained again by subsequent classifiers with high adjusted weights, or decrease in weights for samples that are predicted correctly. Increase in weights means classifiers are more concentrated on the samples that they have missed previously. As a result, the boosting method helps to improve the performance and produce a powerful ensemble.\n",
    "\n",
    "[\"The main difference between bagging and boosting is the way in which they are trained. Bagging method trains classifiers in parallel, but classifiers in boosting learn sequentially.\"](https://www.ibm.com/cloud/learn/boosting) For more information about the boosting, visit [IBM Cloud article \"What is Boosting?\"](https://www.ibm.com/cloud/learn/boosting)."
   ]
  },
  {
   "cell_type": "code",
   "execution_count": 15,
   "id": "50d09372",
   "metadata": {},
   "outputs": [],
   "source": [
    "from sklearn.ensemble import AdaBoostClassifier\n",
    "\n",
    "tree = DecisionTreeClassifier(criterion='entropy', max_depth=1, random_state=1)\n",
    "\n",
    "ada = AdaBoostClassifier(base_estimator=tree, n_estimators=500, learning_rate=0.1, random_state=1)"
   ]
  },
  {
   "cell_type": "code",
   "execution_count": 16,
   "id": "734d8883",
   "metadata": {},
   "outputs": [
    {
     "name": "stdout",
     "output_type": "stream",
     "text": [
      "Train accuracy: 0.916 / Test accuarcy: 0.875\n"
     ]
    }
   ],
   "source": [
    "tree.fit(X_train, y_train)\n",
    "print('Train accuracy: %.3f / Test accuarcy: %.3f' % (tree.score(X_train, y_train), tree.score(X_test, y_test)))"
   ]
  },
  {
   "cell_type": "code",
   "execution_count": 17,
   "id": "850cdcde",
   "metadata": {},
   "outputs": [
    {
     "name": "stdout",
     "output_type": "stream",
     "text": [
      "Train accuracy: 1.000 / Test accuarcy: 0.917\n"
     ]
    }
   ],
   "source": [
    "ada.fit(X_train, y_train)\n",
    "print('Train accuracy: %.3f / Test accuarcy: %.3f' % (ada.score(X_train, y_train), ada.score(X_test, y_test)))"
   ]
  },
  {
   "cell_type": "code",
   "execution_count": 18,
   "id": "cc5c295a",
   "metadata": {
    "scrolled": true
   },
   "outputs": [
    {
     "data": {
      "image/png": "[encoded data removed]",
      "text/plain": [
       "<Figure size 576x216 with 2 Axes>"
      ]
     },
     "metadata": {
      "needs_background": "light"
     },
     "output_type": "display_data"
    }
   ],
   "source": [
    "x1_min, x1_max = X_train[:, 0].min(), X_train[:, 0].max()\n",
    "x2_min, x2_max = X_train[:, 1].min(), X_train[:, 1].max()\n",
    "x1_coordinates, x2_coordinates = np.meshgrid(\n",
    "    np.arange(x1_min - 1, x1_max + 1, 0.1),\n",
    "    np.arange(x2_min - 1, x2_max + 1, 0.1)\n",
    ")\n",
    "\n",
    "f, axarr = plt.subplots(nrows=1, ncols=2, sharex='col', sharey='row', figsize=(8, 3))\n",
    "for idx, clf, title in zip([0, 1], [tree, ada], ['Decision Tree', 'Adaboot']):\n",
    "    clf.fit(X_train, y_train)\n",
    "    Z = clf.predict(np.column_stack([x1_coordinates.ravel(), x2_coordinates.ravel()]))\n",
    "    Z = Z.reshape(x1_coordinates.shape)\n",
    "    axarr[idx].contourf(x1_coordinates, x2_coordinates, Z, alpha=0.3)\n",
    "    axarr[idx].scatter(X_train[y_train == 0, 0], X_train[y_train == 0, 1], c='blue', marker='^', s=50)\n",
    "    axarr[idx].scatter(X_train[y_train == 1, 0], X_train[y_train == 1, 1], c='green', marker='o', s=50)\n",
    "    axarr[idx].set_title(title)\n",
    "plt.tight_layout()\n",
    "axarr[0].set_ylabel('alcohol', fontsize=12)\n",
    "plt.text(0, -0.2, s='0D280/0D315 of diluted wines', ha='center', va='center', fontsize=12, transform=axarr[1].transAxes)\n",
    "plt.show()"
   ]
  },
  {
   "cell_type": "markdown",
   "id": "776e07e7",
   "metadata": {},
   "source": [
    "If you want to learn more about the ensemble learning, visit [scikit-learn.org about Ensemble Method](https://scikit-learn.org/stable/modules/ensemble.html)."
   ]
  }
 ],
 "metadata": {
  "kernelspec": {
   "display_name": "Python 3 (ipykernel)",
   "language": "python",
   "name": "python3"
  },
  "language_info": {
   "codemirror_mode": {
    "name": "ipython",
    "version": 3
   },
   "file_extension": ".py",
   "mimetype": "text/x-python",
   "name": "python",
   "nbconvert_exporter": "python",
   "pygments_lexer": "ipython3",
   "version": "3.7.2"
  }
 },
 "nbformat": 4,
 "nbformat_minor": 5
}
