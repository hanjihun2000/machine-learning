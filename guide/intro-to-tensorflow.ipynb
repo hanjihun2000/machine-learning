{
  "nbformat": 4,
  "nbformat_minor": 0,
  "metadata": {
    "colab": {
      "provenance": [],
      "authorship_tag": "ABX9TyMR3USWj3TJZnA3LzjFMcgE",
      "include_colab_link": true
    },
    "kernelspec": {
      "name": "python3",
      "display_name": "Python 3"
    },
    "language_info": {
      "name": "python"
    },
    "widgets": {
      "application/vnd.jupyter.widget-state+json": {
        "d5db22178949458f9327916dbe664dbb": {
          "model_module": "@jupyter-widgets/controls",
          "model_name": "HBoxModel",
          "model_module_version": "1.5.0",
          "state": {
            "_dom_classes": [],
            "_model_module": "@jupyter-widgets/controls",
            "_model_module_version": "1.5.0",
            "_model_name": "HBoxModel",
            "_view_count": null,
            "_view_module": "@jupyter-widgets/controls",
            "_view_module_version": "1.5.0",
            "_view_name": "HBoxView",
            "box_style": "",
            "children": [
              "IPY_MODEL_0d698b63bc2b4e8a8c49ac344ea81776",
              "IPY_MODEL_c7378188e1cf48f6b3c5bd7e1214f446",
              "IPY_MODEL_8f309c780f7940379d21d13a26f09cae"
            ],
            "layout": "IPY_MODEL_72dd86102ab84f828866c1b74197128a"
          }
        },
        "0d698b63bc2b4e8a8c49ac344ea81776": {
          "model_module": "@jupyter-widgets/controls",
          "model_name": "HTMLModel",
          "model_module_version": "1.5.0",
          "state": {
            "_dom_classes": [],
            "_model_module": "@jupyter-widgets/controls",
            "_model_module_version": "1.5.0",
            "_model_name": "HTMLModel",
            "_view_count": null,
            "_view_module": "@jupyter-widgets/controls",
            "_view_module_version": "1.5.0",
            "_view_name": "HTMLView",
            "description": "",
            "description_tooltip": null,
            "layout": "IPY_MODEL_3615fc63f3fb4d42a51eca76ed2efe5a",
            "placeholder": "​",
            "style": "IPY_MODEL_81e15618f5264a70b3a94a6f8d7a1fe1",
            "value": "Dl Completed...: 100%"
          }
        },
        "c7378188e1cf48f6b3c5bd7e1214f446": {
          "model_module": "@jupyter-widgets/controls",
          "model_name": "FloatProgressModel",
          "model_module_version": "1.5.0",
          "state": {
            "_dom_classes": [],
            "_model_module": "@jupyter-widgets/controls",
            "_model_module_version": "1.5.0",
            "_model_name": "FloatProgressModel",
            "_view_count": null,
            "_view_module": "@jupyter-widgets/controls",
            "_view_module_version": "1.5.0",
            "_view_name": "ProgressView",
            "bar_style": "success",
            "description": "",
            "description_tooltip": null,
            "layout": "IPY_MODEL_f6e75070c5e148b981ceaa02b68c16d0",
            "max": 1,
            "min": 0,
            "orientation": "horizontal",
            "style": "IPY_MODEL_de0e5c2e7bcb468d91c07f64b474d234",
            "value": 1
          }
        },
        "8f309c780f7940379d21d13a26f09cae": {
          "model_module": "@jupyter-widgets/controls",
          "model_name": "HTMLModel",
          "model_module_version": "1.5.0",
          "state": {
            "_dom_classes": [],
            "_model_module": "@jupyter-widgets/controls",
            "_model_module_version": "1.5.0",
            "_model_name": "HTMLModel",
            "_view_count": null,
            "_view_module": "@jupyter-widgets/controls",
            "_view_module_version": "1.5.0",
            "_view_name": "HTMLView",
            "description": "",
            "description_tooltip": null,
            "layout": "IPY_MODEL_1365ed7cd81b4ff5a79bebc36038cc32",
            "placeholder": "​",
            "style": "IPY_MODEL_6304762bda2846d5af467d543d410a81",
            "value": " 1/1 [00:00&lt;00:00,  3.55 url/s]"
          }
        },
        "72dd86102ab84f828866c1b74197128a": {
          "model_module": "@jupyter-widgets/base",
          "model_name": "LayoutModel",
          "model_module_version": "1.2.0",
          "state": {
            "_model_module": "@jupyter-widgets/base",
            "_model_module_version": "1.2.0",
            "_model_name": "LayoutModel",
            "_view_count": null,
            "_view_module": "@jupyter-widgets/base",
            "_view_module_version": "1.2.0",
            "_view_name": "LayoutView",
            "align_content": null,
            "align_items": null,
            "align_self": null,
            "border": null,
            "bottom": null,
            "display": null,
            "flex": null,
            "flex_flow": null,
            "grid_area": null,
            "grid_auto_columns": null,
            "grid_auto_flow": null,
            "grid_auto_rows": null,
            "grid_column": null,
            "grid_gap": null,
            "grid_row": null,
            "grid_template_areas": null,
            "grid_template_columns": null,
            "grid_template_rows": null,
            "height": null,
            "justify_content": null,
            "justify_items": null,
            "left": null,
            "margin": null,
            "max_height": null,
            "max_width": null,
            "min_height": null,
            "min_width": null,
            "object_fit": null,
            "object_position": null,
            "order": null,
            "overflow": null,
            "overflow_x": null,
            "overflow_y": null,
            "padding": null,
            "right": null,
            "top": null,
            "visibility": null,
            "width": null
          }
        },
        "3615fc63f3fb4d42a51eca76ed2efe5a": {
          "model_module": "@jupyter-widgets/base",
          "model_name": "LayoutModel",
          "model_module_version": "1.2.0",
          "state": {
            "_model_module": "@jupyter-widgets/base",
            "_model_module_version": "1.2.0",
            "_model_name": "LayoutModel",
            "_view_count": null,
            "_view_module": "@jupyter-widgets/base",
            "_view_module_version": "1.2.0",
            "_view_name": "LayoutView",
            "align_content": null,
            "align_items": null,
            "align_self": null,
            "border": null,
            "bottom": null,
            "display": null,
            "flex": null,
            "flex_flow": null,
            "grid_area": null,
            "grid_auto_columns": null,
            "grid_auto_flow": null,
            "grid_auto_rows": null,
            "grid_column": null,
            "grid_gap": null,
            "grid_row": null,
            "grid_template_areas": null,
            "grid_template_columns": null,
            "grid_template_rows": null,
            "height": null,
            "justify_content": null,
            "justify_items": null,
            "left": null,
            "margin": null,
            "max_height": null,
            "max_width": null,
            "min_height": null,
            "min_width": null,
            "object_fit": null,
            "object_position": null,
            "order": null,
            "overflow": null,
            "overflow_x": null,
            "overflow_y": null,
            "padding": null,
            "right": null,
            "top": null,
            "visibility": null,
            "width": null
          }
        },
        "81e15618f5264a70b3a94a6f8d7a1fe1": {
          "model_module": "@jupyter-widgets/controls",
          "model_name": "DescriptionStyleModel",
          "model_module_version": "1.5.0",
          "state": {
            "_model_module": "@jupyter-widgets/controls",
            "_model_module_version": "1.5.0",
            "_model_name": "DescriptionStyleModel",
            "_view_count": null,
            "_view_module": "@jupyter-widgets/base",
            "_view_module_version": "1.2.0",
            "_view_name": "StyleView",
            "description_width": ""
          }
        },
        "f6e75070c5e148b981ceaa02b68c16d0": {
          "model_module": "@jupyter-widgets/base",
          "model_name": "LayoutModel",
          "model_module_version": "1.2.0",
          "state": {
            "_model_module": "@jupyter-widgets/base",
            "_model_module_version": "1.2.0",
            "_model_name": "LayoutModel",
            "_view_count": null,
            "_view_module": "@jupyter-widgets/base",
            "_view_module_version": "1.2.0",
            "_view_name": "LayoutView",
            "align_content": null,
            "align_items": null,
            "align_self": null,
            "border": null,
            "bottom": null,
            "display": null,
            "flex": null,
            "flex_flow": null,
            "grid_area": null,
            "grid_auto_columns": null,
            "grid_auto_flow": null,
            "grid_auto_rows": null,
            "grid_column": null,
            "grid_gap": null,
            "grid_row": null,
            "grid_template_areas": null,
            "grid_template_columns": null,
            "grid_template_rows": null,
            "height": null,
            "justify_content": null,
            "justify_items": null,
            "left": null,
            "margin": null,
            "max_height": null,
            "max_width": null,
            "min_height": null,
            "min_width": null,
            "object_fit": null,
            "object_position": null,
            "order": null,
            "overflow": null,
            "overflow_x": null,
            "overflow_y": null,
            "padding": null,
            "right": null,
            "top": null,
            "visibility": null,
            "width": "20px"
          }
        },
        "de0e5c2e7bcb468d91c07f64b474d234": {
          "model_module": "@jupyter-widgets/controls",
          "model_name": "ProgressStyleModel",
          "model_module_version": "1.5.0",
          "state": {
            "_model_module": "@jupyter-widgets/controls",
            "_model_module_version": "1.5.0",
            "_model_name": "ProgressStyleModel",
            "_view_count": null,
            "_view_module": "@jupyter-widgets/base",
            "_view_module_version": "1.2.0",
            "_view_name": "StyleView",
            "bar_color": null,
            "description_width": ""
          }
        },
        "1365ed7cd81b4ff5a79bebc36038cc32": {
          "model_module": "@jupyter-widgets/base",
          "model_name": "LayoutModel",
          "model_module_version": "1.2.0",
          "state": {
            "_model_module": "@jupyter-widgets/base",
            "_model_module_version": "1.2.0",
            "_model_name": "LayoutModel",
            "_view_count": null,
            "_view_module": "@jupyter-widgets/base",
            "_view_module_version": "1.2.0",
            "_view_name": "LayoutView",
            "align_content": null,
            "align_items": null,
            "align_self": null,
            "border": null,
            "bottom": null,
            "display": null,
            "flex": null,
            "flex_flow": null,
            "grid_area": null,
            "grid_auto_columns": null,
            "grid_auto_flow": null,
            "grid_auto_rows": null,
            "grid_column": null,
            "grid_gap": null,
            "grid_row": null,
            "grid_template_areas": null,
            "grid_template_columns": null,
            "grid_template_rows": null,
            "height": null,
            "justify_content": null,
            "justify_items": null,
            "left": null,
            "margin": null,
            "max_height": null,
            "max_width": null,
            "min_height": null,
            "min_width": null,
            "object_fit": null,
            "object_position": null,
            "order": null,
            "overflow": null,
            "overflow_x": null,
            "overflow_y": null,
            "padding": null,
            "right": null,
            "top": null,
            "visibility": null,
            "width": null
          }
        },
        "6304762bda2846d5af467d543d410a81": {
          "model_module": "@jupyter-widgets/controls",
          "model_name": "DescriptionStyleModel",
          "model_module_version": "1.5.0",
          "state": {
            "_model_module": "@jupyter-widgets/controls",
            "_model_module_version": "1.5.0",
            "_model_name": "DescriptionStyleModel",
            "_view_count": null,
            "_view_module": "@jupyter-widgets/base",
            "_view_module_version": "1.2.0",
            "_view_name": "StyleView",
            "description_width": ""
          }
        },
        "32f0ff2b8a05407393c6392e6b262b2c": {
          "model_module": "@jupyter-widgets/controls",
          "model_name": "HBoxModel",
          "model_module_version": "1.5.0",
          "state": {
            "_dom_classes": [],
            "_model_module": "@jupyter-widgets/controls",
            "_model_module_version": "1.5.0",
            "_model_name": "HBoxModel",
            "_view_count": null,
            "_view_module": "@jupyter-widgets/controls",
            "_view_module_version": "1.5.0",
            "_view_name": "HBoxView",
            "box_style": "",
            "children": [
              "IPY_MODEL_c4a4ed29d48d4635b2ce3582aec5c00e",
              "IPY_MODEL_1e22c6d5ecf34b3aa6e563ec1864be19",
              "IPY_MODEL_11a4c4779fc5484c97e5c239a7948172"
            ],
            "layout": "IPY_MODEL_787277b4017b4677857442ec492974e3"
          }
        },
        "c4a4ed29d48d4635b2ce3582aec5c00e": {
          "model_module": "@jupyter-widgets/controls",
          "model_name": "HTMLModel",
          "model_module_version": "1.5.0",
          "state": {
            "_dom_classes": [],
            "_model_module": "@jupyter-widgets/controls",
            "_model_module_version": "1.5.0",
            "_model_name": "HTMLModel",
            "_view_count": null,
            "_view_module": "@jupyter-widgets/controls",
            "_view_module_version": "1.5.0",
            "_view_name": "HTMLView",
            "description": "",
            "description_tooltip": null,
            "layout": "IPY_MODEL_3ccc46436c6d46849fce00af1b0c767a",
            "placeholder": "​",
            "style": "IPY_MODEL_0c16d00d04844cda9dcc5dd1cea5b5ce",
            "value": "Dl Size...: "
          }
        },
        "1e22c6d5ecf34b3aa6e563ec1864be19": {
          "model_module": "@jupyter-widgets/controls",
          "model_name": "FloatProgressModel",
          "model_module_version": "1.5.0",
          "state": {
            "_dom_classes": [],
            "_model_module": "@jupyter-widgets/controls",
            "_model_module_version": "1.5.0",
            "_model_name": "FloatProgressModel",
            "_view_count": null,
            "_view_module": "@jupyter-widgets/controls",
            "_view_module_version": "1.5.0",
            "_view_name": "ProgressView",
            "bar_style": "success",
            "description": "",
            "description_tooltip": null,
            "layout": "IPY_MODEL_76226d517df744d9a37f346125e08af1",
            "max": 1,
            "min": 0,
            "orientation": "horizontal",
            "style": "IPY_MODEL_ba48988a61924c0291d5de29a96efc4d",
            "value": 0
          }
        },
        "11a4c4779fc5484c97e5c239a7948172": {
          "model_module": "@jupyter-widgets/controls",
          "model_name": "HTMLModel",
          "model_module_version": "1.5.0",
          "state": {
            "_dom_classes": [],
            "_model_module": "@jupyter-widgets/controls",
            "_model_module_version": "1.5.0",
            "_model_name": "HTMLModel",
            "_view_count": null,
            "_view_module": "@jupyter-widgets/controls",
            "_view_module_version": "1.5.0",
            "_view_name": "HTMLView",
            "description": "",
            "description_tooltip": null,
            "layout": "IPY_MODEL_aa5618d9cc324305a31c98fefd42d8ad",
            "placeholder": "​",
            "style": "IPY_MODEL_df0e019f33914ae2b5c41e7c3ee32b9e",
            "value": " 0/0 [00:00&lt;?, ? MiB/s]"
          }
        },
        "787277b4017b4677857442ec492974e3": {
          "model_module": "@jupyter-widgets/base",
          "model_name": "LayoutModel",
          "model_module_version": "1.2.0",
          "state": {
            "_model_module": "@jupyter-widgets/base",
            "_model_module_version": "1.2.0",
            "_model_name": "LayoutModel",
            "_view_count": null,
            "_view_module": "@jupyter-widgets/base",
            "_view_module_version": "1.2.0",
            "_view_name": "LayoutView",
            "align_content": null,
            "align_items": null,
            "align_self": null,
            "border": null,
            "bottom": null,
            "display": null,
            "flex": null,
            "flex_flow": null,
            "grid_area": null,
            "grid_auto_columns": null,
            "grid_auto_flow": null,
            "grid_auto_rows": null,
            "grid_column": null,
            "grid_gap": null,
            "grid_row": null,
            "grid_template_areas": null,
            "grid_template_columns": null,
            "grid_template_rows": null,
            "height": null,
            "justify_content": null,
            "justify_items": null,
            "left": null,
            "margin": null,
            "max_height": null,
            "max_width": null,
            "min_height": null,
            "min_width": null,
            "object_fit": null,
            "object_position": null,
            "order": null,
            "overflow": null,
            "overflow_x": null,
            "overflow_y": null,
            "padding": null,
            "right": null,
            "top": null,
            "visibility": null,
            "width": null
          }
        },
        "3ccc46436c6d46849fce00af1b0c767a": {
          "model_module": "@jupyter-widgets/base",
          "model_name": "LayoutModel",
          "model_module_version": "1.2.0",
          "state": {
            "_model_module": "@jupyter-widgets/base",
            "_model_module_version": "1.2.0",
            "_model_name": "LayoutModel",
            "_view_count": null,
            "_view_module": "@jupyter-widgets/base",
            "_view_module_version": "1.2.0",
            "_view_name": "LayoutView",
            "align_content": null,
            "align_items": null,
            "align_self": null,
            "border": null,
            "bottom": null,
            "display": null,
            "flex": null,
            "flex_flow": null,
            "grid_area": null,
            "grid_auto_columns": null,
            "grid_auto_flow": null,
            "grid_auto_rows": null,
            "grid_column": null,
            "grid_gap": null,
            "grid_row": null,
            "grid_template_areas": null,
            "grid_template_columns": null,
            "grid_template_rows": null,
            "height": null,
            "justify_content": null,
            "justify_items": null,
            "left": null,
            "margin": null,
            "max_height": null,
            "max_width": null,
            "min_height": null,
            "min_width": null,
            "object_fit": null,
            "object_position": null,
            "order": null,
            "overflow": null,
            "overflow_x": null,
            "overflow_y": null,
            "padding": null,
            "right": null,
            "top": null,
            "visibility": null,
            "width": null
          }
        },
        "0c16d00d04844cda9dcc5dd1cea5b5ce": {
          "model_module": "@jupyter-widgets/controls",
          "model_name": "DescriptionStyleModel",
          "model_module_version": "1.5.0",
          "state": {
            "_model_module": "@jupyter-widgets/controls",
            "_model_module_version": "1.5.0",
            "_model_name": "DescriptionStyleModel",
            "_view_count": null,
            "_view_module": "@jupyter-widgets/base",
            "_view_module_version": "1.2.0",
            "_view_name": "StyleView",
            "description_width": ""
          }
        },
        "76226d517df744d9a37f346125e08af1": {
          "model_module": "@jupyter-widgets/base",
          "model_name": "LayoutModel",
          "model_module_version": "1.2.0",
          "state": {
            "_model_module": "@jupyter-widgets/base",
            "_model_module_version": "1.2.0",
            "_model_name": "LayoutModel",
            "_view_count": null,
            "_view_module": "@jupyter-widgets/base",
            "_view_module_version": "1.2.0",
            "_view_name": "LayoutView",
            "align_content": null,
            "align_items": null,
            "align_self": null,
            "border": null,
            "bottom": null,
            "display": null,
            "flex": null,
            "flex_flow": null,
            "grid_area": null,
            "grid_auto_columns": null,
            "grid_auto_flow": null,
            "grid_auto_rows": null,
            "grid_column": null,
            "grid_gap": null,
            "grid_row": null,
            "grid_template_areas": null,
            "grid_template_columns": null,
            "grid_template_rows": null,
            "height": null,
            "justify_content": null,
            "justify_items": null,
            "left": null,
            "margin": null,
            "max_height": null,
            "max_width": null,
            "min_height": null,
            "min_width": null,
            "object_fit": null,
            "object_position": null,
            "order": null,
            "overflow": null,
            "overflow_x": null,
            "overflow_y": null,
            "padding": null,
            "right": null,
            "top": null,
            "visibility": null,
            "width": "20px"
          }
        },
        "ba48988a61924c0291d5de29a96efc4d": {
          "model_module": "@jupyter-widgets/controls",
          "model_name": "ProgressStyleModel",
          "model_module_version": "1.5.0",
          "state": {
            "_model_module": "@jupyter-widgets/controls",
            "_model_module_version": "1.5.0",
            "_model_name": "ProgressStyleModel",
            "_view_count": null,
            "_view_module": "@jupyter-widgets/base",
            "_view_module_version": "1.2.0",
            "_view_name": "StyleView",
            "bar_color": null,
            "description_width": ""
          }
        },
        "aa5618d9cc324305a31c98fefd42d8ad": {
          "model_module": "@jupyter-widgets/base",
          "model_name": "LayoutModel",
          "model_module_version": "1.2.0",
          "state": {
            "_model_module": "@jupyter-widgets/base",
            "_model_module_version": "1.2.0",
            "_model_name": "LayoutModel",
            "_view_count": null,
            "_view_module": "@jupyter-widgets/base",
            "_view_module_version": "1.2.0",
            "_view_name": "LayoutView",
            "align_content": null,
            "align_items": null,
            "align_self": null,
            "border": null,
            "bottom": null,
            "display": null,
            "flex": null,
            "flex_flow": null,
            "grid_area": null,
            "grid_auto_columns": null,
            "grid_auto_flow": null,
            "grid_auto_rows": null,
            "grid_column": null,
            "grid_gap": null,
            "grid_row": null,
            "grid_template_areas": null,
            "grid_template_columns": null,
            "grid_template_rows": null,
            "height": null,
            "justify_content": null,
            "justify_items": null,
            "left": null,
            "margin": null,
            "max_height": null,
            "max_width": null,
            "min_height": null,
            "min_width": null,
            "object_fit": null,
            "object_position": null,
            "order": null,
            "overflow": null,
            "overflow_x": null,
            "overflow_y": null,
            "padding": null,
            "right": null,
            "top": null,
            "visibility": null,
            "width": null
          }
        },
        "df0e019f33914ae2b5c41e7c3ee32b9e": {
          "model_module": "@jupyter-widgets/controls",
          "model_name": "DescriptionStyleModel",
          "model_module_version": "1.5.0",
          "state": {
            "_model_module": "@jupyter-widgets/controls",
            "_model_module_version": "1.5.0",
            "_model_name": "DescriptionStyleModel",
            "_view_count": null,
            "_view_module": "@jupyter-widgets/base",
            "_view_module_version": "1.2.0",
            "_view_name": "StyleView",
            "description_width": ""
          }
        },
        "f883d7839ffa4798be83f09f5b4d7637": {
          "model_module": "@jupyter-widgets/controls",
          "model_name": "HBoxModel",
          "model_module_version": "1.5.0",
          "state": {
            "_dom_classes": [],
            "_model_module": "@jupyter-widgets/controls",
            "_model_module_version": "1.5.0",
            "_model_name": "HBoxModel",
            "_view_count": null,
            "_view_module": "@jupyter-widgets/controls",
            "_view_module_version": "1.5.0",
            "_view_name": "HBoxView",
            "box_style": "",
            "children": [
              "IPY_MODEL_16a9e838575e438cb66e640f458af6c2",
              "IPY_MODEL_f88f26d8ce424b00be3893f664902662",
              "IPY_MODEL_84180ad9a114420eaef49896092ca4f3"
            ],
            "layout": "IPY_MODEL_7e7e741d376c47a5952e67d32e8a1545"
          }
        },
        "16a9e838575e438cb66e640f458af6c2": {
          "model_module": "@jupyter-widgets/controls",
          "model_name": "HTMLModel",
          "model_module_version": "1.5.0",
          "state": {
            "_dom_classes": [],
            "_model_module": "@jupyter-widgets/controls",
            "_model_module_version": "1.5.0",
            "_model_name": "HTMLModel",
            "_view_count": null,
            "_view_module": "@jupyter-widgets/controls",
            "_view_module_version": "1.5.0",
            "_view_name": "HTMLView",
            "description": "",
            "description_tooltip": null,
            "layout": "IPY_MODEL_3296af0cd95a44e7bb4f445a9b2e8bf6",
            "placeholder": "​",
            "style": "IPY_MODEL_602cba199a3a4e578759900cf8e73d26",
            "value": "Generating splits...: 100%"
          }
        },
        "f88f26d8ce424b00be3893f664902662": {
          "model_module": "@jupyter-widgets/controls",
          "model_name": "FloatProgressModel",
          "model_module_version": "1.5.0",
          "state": {
            "_dom_classes": [],
            "_model_module": "@jupyter-widgets/controls",
            "_model_module_version": "1.5.0",
            "_model_name": "FloatProgressModel",
            "_view_count": null,
            "_view_module": "@jupyter-widgets/controls",
            "_view_module_version": "1.5.0",
            "_view_name": "ProgressView",
            "bar_style": "",
            "description": "",
            "description_tooltip": null,
            "layout": "IPY_MODEL_fe9a9e921a6f4eefbbf82825d25b4f43",
            "max": 1,
            "min": 0,
            "orientation": "horizontal",
            "style": "IPY_MODEL_4ad797d70f67465c80bd412fca3ec3bc",
            "value": 1
          }
        },
        "84180ad9a114420eaef49896092ca4f3": {
          "model_module": "@jupyter-widgets/controls",
          "model_name": "HTMLModel",
          "model_module_version": "1.5.0",
          "state": {
            "_dom_classes": [],
            "_model_module": "@jupyter-widgets/controls",
            "_model_module_version": "1.5.0",
            "_model_name": "HTMLModel",
            "_view_count": null,
            "_view_module": "@jupyter-widgets/controls",
            "_view_module_version": "1.5.0",
            "_view_name": "HTMLView",
            "description": "",
            "description_tooltip": null,
            "layout": "IPY_MODEL_14fd5520b04446c6a0dbe808e24054a6",
            "placeholder": "​",
            "style": "IPY_MODEL_e412b22c65ff4b63913e3a472428d20d",
            "value": " 1/1 [00:00&lt;00:00,  9.07 splits/s]"
          }
        },
        "7e7e741d376c47a5952e67d32e8a1545": {
          "model_module": "@jupyter-widgets/base",
          "model_name": "LayoutModel",
          "model_module_version": "1.2.0",
          "state": {
            "_model_module": "@jupyter-widgets/base",
            "_model_module_version": "1.2.0",
            "_model_name": "LayoutModel",
            "_view_count": null,
            "_view_module": "@jupyter-widgets/base",
            "_view_module_version": "1.2.0",
            "_view_name": "LayoutView",
            "align_content": null,
            "align_items": null,
            "align_self": null,
            "border": null,
            "bottom": null,
            "display": null,
            "flex": null,
            "flex_flow": null,
            "grid_area": null,
            "grid_auto_columns": null,
            "grid_auto_flow": null,
            "grid_auto_rows": null,
            "grid_column": null,
            "grid_gap": null,
            "grid_row": null,
            "grid_template_areas": null,
            "grid_template_columns": null,
            "grid_template_rows": null,
            "height": null,
            "justify_content": null,
            "justify_items": null,
            "left": null,
            "margin": null,
            "max_height": null,
            "max_width": null,
            "min_height": null,
            "min_width": null,
            "object_fit": null,
            "object_position": null,
            "order": null,
            "overflow": null,
            "overflow_x": null,
            "overflow_y": null,
            "padding": null,
            "right": null,
            "top": null,
            "visibility": "hidden",
            "width": null
          }
        },
        "3296af0cd95a44e7bb4f445a9b2e8bf6": {
          "model_module": "@jupyter-widgets/base",
          "model_name": "LayoutModel",
          "model_module_version": "1.2.0",
          "state": {
            "_model_module": "@jupyter-widgets/base",
            "_model_module_version": "1.2.0",
            "_model_name": "LayoutModel",
            "_view_count": null,
            "_view_module": "@jupyter-widgets/base",
            "_view_module_version": "1.2.0",
            "_view_name": "LayoutView",
            "align_content": null,
            "align_items": null,
            "align_self": null,
            "border": null,
            "bottom": null,
            "display": null,
            "flex": null,
            "flex_flow": null,
            "grid_area": null,
            "grid_auto_columns": null,
            "grid_auto_flow": null,
            "grid_auto_rows": null,
            "grid_column": null,
            "grid_gap": null,
            "grid_row": null,
            "grid_template_areas": null,
            "grid_template_columns": null,
            "grid_template_rows": null,
            "height": null,
            "justify_content": null,
            "justify_items": null,
            "left": null,
            "margin": null,
            "max_height": null,
            "max_width": null,
            "min_height": null,
            "min_width": null,
            "object_fit": null,
            "object_position": null,
            "order": null,
            "overflow": null,
            "overflow_x": null,
            "overflow_y": null,
            "padding": null,
            "right": null,
            "top": null,
            "visibility": null,
            "width": null
          }
        },
        "602cba199a3a4e578759900cf8e73d26": {
          "model_module": "@jupyter-widgets/controls",
          "model_name": "DescriptionStyleModel",
          "model_module_version": "1.5.0",
          "state": {
            "_model_module": "@jupyter-widgets/controls",
            "_model_module_version": "1.5.0",
            "_model_name": "DescriptionStyleModel",
            "_view_count": null,
            "_view_module": "@jupyter-widgets/base",
            "_view_module_version": "1.2.0",
            "_view_name": "StyleView",
            "description_width": ""
          }
        },
        "fe9a9e921a6f4eefbbf82825d25b4f43": {
          "model_module": "@jupyter-widgets/base",
          "model_name": "LayoutModel",
          "model_module_version": "1.2.0",
          "state": {
            "_model_module": "@jupyter-widgets/base",
            "_model_module_version": "1.2.0",
            "_model_name": "LayoutModel",
            "_view_count": null,
            "_view_module": "@jupyter-widgets/base",
            "_view_module_version": "1.2.0",
            "_view_name": "LayoutView",
            "align_content": null,
            "align_items": null,
            "align_self": null,
            "border": null,
            "bottom": null,
            "display": null,
            "flex": null,
            "flex_flow": null,
            "grid_area": null,
            "grid_auto_columns": null,
            "grid_auto_flow": null,
            "grid_auto_rows": null,
            "grid_column": null,
            "grid_gap": null,
            "grid_row": null,
            "grid_template_areas": null,
            "grid_template_columns": null,
            "grid_template_rows": null,
            "height": null,
            "justify_content": null,
            "justify_items": null,
            "left": null,
            "margin": null,
            "max_height": null,
            "max_width": null,
            "min_height": null,
            "min_width": null,
            "object_fit": null,
            "object_position": null,
            "order": null,
            "overflow": null,
            "overflow_x": null,
            "overflow_y": null,
            "padding": null,
            "right": null,
            "top": null,
            "visibility": null,
            "width": null
          }
        },
        "4ad797d70f67465c80bd412fca3ec3bc": {
          "model_module": "@jupyter-widgets/controls",
          "model_name": "ProgressStyleModel",
          "model_module_version": "1.5.0",
          "state": {
            "_model_module": "@jupyter-widgets/controls",
            "_model_module_version": "1.5.0",
            "_model_name": "ProgressStyleModel",
            "_view_count": null,
            "_view_module": "@jupyter-widgets/base",
            "_view_module_version": "1.2.0",
            "_view_name": "StyleView",
            "bar_color": null,
            "description_width": ""
          }
        },
        "14fd5520b04446c6a0dbe808e24054a6": {
          "model_module": "@jupyter-widgets/base",
          "model_name": "LayoutModel",
          "model_module_version": "1.2.0",
          "state": {
            "_model_module": "@jupyter-widgets/base",
            "_model_module_version": "1.2.0",
            "_model_name": "LayoutModel",
            "_view_count": null,
            "_view_module": "@jupyter-widgets/base",
            "_view_module_version": "1.2.0",
            "_view_name": "LayoutView",
            "align_content": null,
            "align_items": null,
            "align_self": null,
            "border": null,
            "bottom": null,
            "display": null,
            "flex": null,
            "flex_flow": null,
            "grid_area": null,
            "grid_auto_columns": null,
            "grid_auto_flow": null,
            "grid_auto_rows": null,
            "grid_column": null,
            "grid_gap": null,
            "grid_row": null,
            "grid_template_areas": null,
            "grid_template_columns": null,
            "grid_template_rows": null,
            "height": null,
            "justify_content": null,
            "justify_items": null,
            "left": null,
            "margin": null,
            "max_height": null,
            "max_width": null,
            "min_height": null,
            "min_width": null,
            "object_fit": null,
            "object_position": null,
            "order": null,
            "overflow": null,
            "overflow_x": null,
            "overflow_y": null,
            "padding": null,
            "right": null,
            "top": null,
            "visibility": null,
            "width": null
          }
        },
        "e412b22c65ff4b63913e3a472428d20d": {
          "model_module": "@jupyter-widgets/controls",
          "model_name": "DescriptionStyleModel",
          "model_module_version": "1.5.0",
          "state": {
            "_model_module": "@jupyter-widgets/controls",
            "_model_module_version": "1.5.0",
            "_model_name": "DescriptionStyleModel",
            "_view_count": null,
            "_view_module": "@jupyter-widgets/base",
            "_view_module_version": "1.2.0",
            "_view_name": "StyleView",
            "description_width": ""
          }
        },
        "cf8a20e0b2684294a32e5c9cde7b4fd2": {
          "model_module": "@jupyter-widgets/controls",
          "model_name": "HBoxModel",
          "model_module_version": "1.5.0",
          "state": {
            "_dom_classes": [],
            "_model_module": "@jupyter-widgets/controls",
            "_model_module_version": "1.5.0",
            "_model_name": "HBoxModel",
            "_view_count": null,
            "_view_module": "@jupyter-widgets/controls",
            "_view_module_version": "1.5.0",
            "_view_name": "HBoxView",
            "box_style": "",
            "children": [
              "IPY_MODEL_26093d0eb96347ce91cd4641b0f4e914",
              "IPY_MODEL_3455153aeab4441e95f616439c8077e7",
              "IPY_MODEL_0fc6df14346e49fc860f125ac37198df"
            ],
            "layout": "IPY_MODEL_f3a874a314c94939a6bbb7fc3ecba57d"
          }
        },
        "26093d0eb96347ce91cd4641b0f4e914": {
          "model_module": "@jupyter-widgets/controls",
          "model_name": "HTMLModel",
          "model_module_version": "1.5.0",
          "state": {
            "_dom_classes": [],
            "_model_module": "@jupyter-widgets/controls",
            "_model_module_version": "1.5.0",
            "_model_name": "HTMLModel",
            "_view_count": null,
            "_view_module": "@jupyter-widgets/controls",
            "_view_module_version": "1.5.0",
            "_view_name": "HTMLView",
            "description": "",
            "description_tooltip": null,
            "layout": "IPY_MODEL_342d9c98dffc40dbb407b716b44a1d75",
            "placeholder": "​",
            "style": "IPY_MODEL_83492b1e79014666ada7af8ffc982c53",
            "value": "Generating train examples...: "
          }
        },
        "3455153aeab4441e95f616439c8077e7": {
          "model_module": "@jupyter-widgets/controls",
          "model_name": "FloatProgressModel",
          "model_module_version": "1.5.0",
          "state": {
            "_dom_classes": [],
            "_model_module": "@jupyter-widgets/controls",
            "_model_module_version": "1.5.0",
            "_model_name": "FloatProgressModel",
            "_view_count": null,
            "_view_module": "@jupyter-widgets/controls",
            "_view_module_version": "1.5.0",
            "_view_name": "ProgressView",
            "bar_style": "info",
            "description": "",
            "description_tooltip": null,
            "layout": "IPY_MODEL_a4786b7fbb604dd98393e95fb1441dfc",
            "max": 1,
            "min": 0,
            "orientation": "horizontal",
            "style": "IPY_MODEL_14e59ec2da564f529c35b6f57e053cb9",
            "value": 1
          }
        },
        "0fc6df14346e49fc860f125ac37198df": {
          "model_module": "@jupyter-widgets/controls",
          "model_name": "HTMLModel",
          "model_module_version": "1.5.0",
          "state": {
            "_dom_classes": [],
            "_model_module": "@jupyter-widgets/controls",
            "_model_module_version": "1.5.0",
            "_model_name": "HTMLModel",
            "_view_count": null,
            "_view_module": "@jupyter-widgets/controls",
            "_view_module_version": "1.5.0",
            "_view_name": "HTMLView",
            "description": "",
            "description_tooltip": null,
            "layout": "IPY_MODEL_e78225cf3da4440d86e87fd03ee11078",
            "placeholder": "​",
            "style": "IPY_MODEL_feecdcc47f7c4953bdb2ee37fb0417f3",
            "value": " 0/? [00:00&lt;?, ? examples/s]"
          }
        },
        "f3a874a314c94939a6bbb7fc3ecba57d": {
          "model_module": "@jupyter-widgets/base",
          "model_name": "LayoutModel",
          "model_module_version": "1.2.0",
          "state": {
            "_model_module": "@jupyter-widgets/base",
            "_model_module_version": "1.2.0",
            "_model_name": "LayoutModel",
            "_view_count": null,
            "_view_module": "@jupyter-widgets/base",
            "_view_module_version": "1.2.0",
            "_view_name": "LayoutView",
            "align_content": null,
            "align_items": null,
            "align_self": null,
            "border": null,
            "bottom": null,
            "display": null,
            "flex": null,
            "flex_flow": null,
            "grid_area": null,
            "grid_auto_columns": null,
            "grid_auto_flow": null,
            "grid_auto_rows": null,
            "grid_column": null,
            "grid_gap": null,
            "grid_row": null,
            "grid_template_areas": null,
            "grid_template_columns": null,
            "grid_template_rows": null,
            "height": null,
            "justify_content": null,
            "justify_items": null,
            "left": null,
            "margin": null,
            "max_height": null,
            "max_width": null,
            "min_height": null,
            "min_width": null,
            "object_fit": null,
            "object_position": null,
            "order": null,
            "overflow": null,
            "overflow_x": null,
            "overflow_y": null,
            "padding": null,
            "right": null,
            "top": null,
            "visibility": "hidden",
            "width": null
          }
        },
        "342d9c98dffc40dbb407b716b44a1d75": {
          "model_module": "@jupyter-widgets/base",
          "model_name": "LayoutModel",
          "model_module_version": "1.2.0",
          "state": {
            "_model_module": "@jupyter-widgets/base",
            "_model_module_version": "1.2.0",
            "_model_name": "LayoutModel",
            "_view_count": null,
            "_view_module": "@jupyter-widgets/base",
            "_view_module_version": "1.2.0",
            "_view_name": "LayoutView",
            "align_content": null,
            "align_items": null,
            "align_self": null,
            "border": null,
            "bottom": null,
            "display": null,
            "flex": null,
            "flex_flow": null,
            "grid_area": null,
            "grid_auto_columns": null,
            "grid_auto_flow": null,
            "grid_auto_rows": null,
            "grid_column": null,
            "grid_gap": null,
            "grid_row": null,
            "grid_template_areas": null,
            "grid_template_columns": null,
            "grid_template_rows": null,
            "height": null,
            "justify_content": null,
            "justify_items": null,
            "left": null,
            "margin": null,
            "max_height": null,
            "max_width": null,
            "min_height": null,
            "min_width": null,
            "object_fit": null,
            "object_position": null,
            "order": null,
            "overflow": null,
            "overflow_x": null,
            "overflow_y": null,
            "padding": null,
            "right": null,
            "top": null,
            "visibility": null,
            "width": null
          }
        },
        "83492b1e79014666ada7af8ffc982c53": {
          "model_module": "@jupyter-widgets/controls",
          "model_name": "DescriptionStyleModel",
          "model_module_version": "1.5.0",
          "state": {
            "_model_module": "@jupyter-widgets/controls",
            "_model_module_version": "1.5.0",
            "_model_name": "DescriptionStyleModel",
            "_view_count": null,
            "_view_module": "@jupyter-widgets/base",
            "_view_module_version": "1.2.0",
            "_view_name": "StyleView",
            "description_width": ""
          }
        },
        "a4786b7fbb604dd98393e95fb1441dfc": {
          "model_module": "@jupyter-widgets/base",
          "model_name": "LayoutModel",
          "model_module_version": "1.2.0",
          "state": {
            "_model_module": "@jupyter-widgets/base",
            "_model_module_version": "1.2.0",
            "_model_name": "LayoutModel",
            "_view_count": null,
            "_view_module": "@jupyter-widgets/base",
            "_view_module_version": "1.2.0",
            "_view_name": "LayoutView",
            "align_content": null,
            "align_items": null,
            "align_self": null,
            "border": null,
            "bottom": null,
            "display": null,
            "flex": null,
            "flex_flow": null,
            "grid_area": null,
            "grid_auto_columns": null,
            "grid_auto_flow": null,
            "grid_auto_rows": null,
            "grid_column": null,
            "grid_gap": null,
            "grid_row": null,
            "grid_template_areas": null,
            "grid_template_columns": null,
            "grid_template_rows": null,
            "height": null,
            "justify_content": null,
            "justify_items": null,
            "left": null,
            "margin": null,
            "max_height": null,
            "max_width": null,
            "min_height": null,
            "min_width": null,
            "object_fit": null,
            "object_position": null,
            "order": null,
            "overflow": null,
            "overflow_x": null,
            "overflow_y": null,
            "padding": null,
            "right": null,
            "top": null,
            "visibility": null,
            "width": "20px"
          }
        },
        "14e59ec2da564f529c35b6f57e053cb9": {
          "model_module": "@jupyter-widgets/controls",
          "model_name": "ProgressStyleModel",
          "model_module_version": "1.5.0",
          "state": {
            "_model_module": "@jupyter-widgets/controls",
            "_model_module_version": "1.5.0",
            "_model_name": "ProgressStyleModel",
            "_view_count": null,
            "_view_module": "@jupyter-widgets/base",
            "_view_module_version": "1.2.0",
            "_view_name": "StyleView",
            "bar_color": null,
            "description_width": ""
          }
        },
        "e78225cf3da4440d86e87fd03ee11078": {
          "model_module": "@jupyter-widgets/base",
          "model_name": "LayoutModel",
          "model_module_version": "1.2.0",
          "state": {
            "_model_module": "@jupyter-widgets/base",
            "_model_module_version": "1.2.0",
            "_model_name": "LayoutModel",
            "_view_count": null,
            "_view_module": "@jupyter-widgets/base",
            "_view_module_version": "1.2.0",
            "_view_name": "LayoutView",
            "align_content": null,
            "align_items": null,
            "align_self": null,
            "border": null,
            "bottom": null,
            "display": null,
            "flex": null,
            "flex_flow": null,
            "grid_area": null,
            "grid_auto_columns": null,
            "grid_auto_flow": null,
            "grid_auto_rows": null,
            "grid_column": null,
            "grid_gap": null,
            "grid_row": null,
            "grid_template_areas": null,
            "grid_template_columns": null,
            "grid_template_rows": null,
            "height": null,
            "justify_content": null,
            "justify_items": null,
            "left": null,
            "margin": null,
            "max_height": null,
            "max_width": null,
            "min_height": null,
            "min_width": null,
            "object_fit": null,
            "object_position": null,
            "order": null,
            "overflow": null,
            "overflow_x": null,
            "overflow_y": null,
            "padding": null,
            "right": null,
            "top": null,
            "visibility": null,
            "width": null
          }
        },
        "feecdcc47f7c4953bdb2ee37fb0417f3": {
          "model_module": "@jupyter-widgets/controls",
          "model_name": "DescriptionStyleModel",
          "model_module_version": "1.5.0",
          "state": {
            "_model_module": "@jupyter-widgets/controls",
            "_model_module_version": "1.5.0",
            "_model_name": "DescriptionStyleModel",
            "_view_count": null,
            "_view_module": "@jupyter-widgets/base",
            "_view_module_version": "1.2.0",
            "_view_name": "StyleView",
            "description_width": ""
          }
        },
        "2211364ec6b848ec87b9c0db3265cace": {
          "model_module": "@jupyter-widgets/controls",
          "model_name": "HBoxModel",
          "model_module_version": "1.5.0",
          "state": {
            "_dom_classes": [],
            "_model_module": "@jupyter-widgets/controls",
            "_model_module_version": "1.5.0",
            "_model_name": "HBoxModel",
            "_view_count": null,
            "_view_module": "@jupyter-widgets/controls",
            "_view_module_version": "1.5.0",
            "_view_name": "HBoxView",
            "box_style": "",
            "children": [
              "IPY_MODEL_2208650d371742918b16f0d1a2b8727d",
              "IPY_MODEL_9d972761f5964044be2d4e2e1c40b9df",
              "IPY_MODEL_df44f08c15bd4b2480deb1f650ad0084"
            ],
            "layout": "IPY_MODEL_e2ad3b85467c459dbd92008c77be5c7a"
          }
        },
        "2208650d371742918b16f0d1a2b8727d": {
          "model_module": "@jupyter-widgets/controls",
          "model_name": "HTMLModel",
          "model_module_version": "1.5.0",
          "state": {
            "_dom_classes": [],
            "_model_module": "@jupyter-widgets/controls",
            "_model_module_version": "1.5.0",
            "_model_name": "HTMLModel",
            "_view_count": null,
            "_view_module": "@jupyter-widgets/controls",
            "_view_module_version": "1.5.0",
            "_view_name": "HTMLView",
            "description": "",
            "description_tooltip": null,
            "layout": "IPY_MODEL_37257bd718bf4d3dba83a80494c9d753",
            "placeholder": "​",
            "style": "IPY_MODEL_cec87fd5760e40d683da9ce698dd6330",
            "value": "Shuffling /root/tensorflow_datasets/iris/2.0.0.incompleteJZQRU2/iris-train.tfrecord*...:   0%"
          }
        },
        "9d972761f5964044be2d4e2e1c40b9df": {
          "model_module": "@jupyter-widgets/controls",
          "model_name": "FloatProgressModel",
          "model_module_version": "1.5.0",
          "state": {
            "_dom_classes": [],
            "_model_module": "@jupyter-widgets/controls",
            "_model_module_version": "1.5.0",
            "_model_name": "FloatProgressModel",
            "_view_count": null,
            "_view_module": "@jupyter-widgets/controls",
            "_view_module_version": "1.5.0",
            "_view_name": "ProgressView",
            "bar_style": "",
            "description": "",
            "description_tooltip": null,
            "layout": "IPY_MODEL_f268ba64b617428abede9b82af4d6401",
            "max": 150,
            "min": 0,
            "orientation": "horizontal",
            "style": "IPY_MODEL_4ec018a2b5584e4b8c3fe9a6e15dc5b7",
            "value": 150
          }
        },
        "df44f08c15bd4b2480deb1f650ad0084": {
          "model_module": "@jupyter-widgets/controls",
          "model_name": "HTMLModel",
          "model_module_version": "1.5.0",
          "state": {
            "_dom_classes": [],
            "_model_module": "@jupyter-widgets/controls",
            "_model_module_version": "1.5.0",
            "_model_name": "HTMLModel",
            "_view_count": null,
            "_view_module": "@jupyter-widgets/controls",
            "_view_module_version": "1.5.0",
            "_view_name": "HTMLView",
            "description": "",
            "description_tooltip": null,
            "layout": "IPY_MODEL_d549b5d6fde741e7841c01e43511c493",
            "placeholder": "​",
            "style": "IPY_MODEL_c0aa65d4fb5a4aadaa1a4fa88ea8e106",
            "value": " 0/150 [00:00&lt;?, ? examples/s]"
          }
        },
        "e2ad3b85467c459dbd92008c77be5c7a": {
          "model_module": "@jupyter-widgets/base",
          "model_name": "LayoutModel",
          "model_module_version": "1.2.0",
          "state": {
            "_model_module": "@jupyter-widgets/base",
            "_model_module_version": "1.2.0",
            "_model_name": "LayoutModel",
            "_view_count": null,
            "_view_module": "@jupyter-widgets/base",
            "_view_module_version": "1.2.0",
            "_view_name": "LayoutView",
            "align_content": null,
            "align_items": null,
            "align_self": null,
            "border": null,
            "bottom": null,
            "display": null,
            "flex": null,
            "flex_flow": null,
            "grid_area": null,
            "grid_auto_columns": null,
            "grid_auto_flow": null,
            "grid_auto_rows": null,
            "grid_column": null,
            "grid_gap": null,
            "grid_row": null,
            "grid_template_areas": null,
            "grid_template_columns": null,
            "grid_template_rows": null,
            "height": null,
            "justify_content": null,
            "justify_items": null,
            "left": null,
            "margin": null,
            "max_height": null,
            "max_width": null,
            "min_height": null,
            "min_width": null,
            "object_fit": null,
            "object_position": null,
            "order": null,
            "overflow": null,
            "overflow_x": null,
            "overflow_y": null,
            "padding": null,
            "right": null,
            "top": null,
            "visibility": "hidden",
            "width": null
          }
        },
        "37257bd718bf4d3dba83a80494c9d753": {
          "model_module": "@jupyter-widgets/base",
          "model_name": "LayoutModel",
          "model_module_version": "1.2.0",
          "state": {
            "_model_module": "@jupyter-widgets/base",
            "_model_module_version": "1.2.0",
            "_model_name": "LayoutModel",
            "_view_count": null,
            "_view_module": "@jupyter-widgets/base",
            "_view_module_version": "1.2.0",
            "_view_name": "LayoutView",
            "align_content": null,
            "align_items": null,
            "align_self": null,
            "border": null,
            "bottom": null,
            "display": null,
            "flex": null,
            "flex_flow": null,
            "grid_area": null,
            "grid_auto_columns": null,
            "grid_auto_flow": null,
            "grid_auto_rows": null,
            "grid_column": null,
            "grid_gap": null,
            "grid_row": null,
            "grid_template_areas": null,
            "grid_template_columns": null,
            "grid_template_rows": null,
            "height": null,
            "justify_content": null,
            "justify_items": null,
            "left": null,
            "margin": null,
            "max_height": null,
            "max_width": null,
            "min_height": null,
            "min_width": null,
            "object_fit": null,
            "object_position": null,
            "order": null,
            "overflow": null,
            "overflow_x": null,
            "overflow_y": null,
            "padding": null,
            "right": null,
            "top": null,
            "visibility": null,
            "width": null
          }
        },
        "cec87fd5760e40d683da9ce698dd6330": {
          "model_module": "@jupyter-widgets/controls",
          "model_name": "DescriptionStyleModel",
          "model_module_version": "1.5.0",
          "state": {
            "_model_module": "@jupyter-widgets/controls",
            "_model_module_version": "1.5.0",
            "_model_name": "DescriptionStyleModel",
            "_view_count": null,
            "_view_module": "@jupyter-widgets/base",
            "_view_module_version": "1.2.0",
            "_view_name": "StyleView",
            "description_width": ""
          }
        },
        "f268ba64b617428abede9b82af4d6401": {
          "model_module": "@jupyter-widgets/base",
          "model_name": "LayoutModel",
          "model_module_version": "1.2.0",
          "state": {
            "_model_module": "@jupyter-widgets/base",
            "_model_module_version": "1.2.0",
            "_model_name": "LayoutModel",
            "_view_count": null,
            "_view_module": "@jupyter-widgets/base",
            "_view_module_version": "1.2.0",
            "_view_name": "LayoutView",
            "align_content": null,
            "align_items": null,
            "align_self": null,
            "border": null,
            "bottom": null,
            "display": null,
            "flex": null,
            "flex_flow": null,
            "grid_area": null,
            "grid_auto_columns": null,
            "grid_auto_flow": null,
            "grid_auto_rows": null,
            "grid_column": null,
            "grid_gap": null,
            "grid_row": null,
            "grid_template_areas": null,
            "grid_template_columns": null,
            "grid_template_rows": null,
            "height": null,
            "justify_content": null,
            "justify_items": null,
            "left": null,
            "margin": null,
            "max_height": null,
            "max_width": null,
            "min_height": null,
            "min_width": null,
            "object_fit": null,
            "object_position": null,
            "order": null,
            "overflow": null,
            "overflow_x": null,
            "overflow_y": null,
            "padding": null,
            "right": null,
            "top": null,
            "visibility": null,
            "width": null
          }
        },
        "4ec018a2b5584e4b8c3fe9a6e15dc5b7": {
          "model_module": "@jupyter-widgets/controls",
          "model_name": "ProgressStyleModel",
          "model_module_version": "1.5.0",
          "state": {
            "_model_module": "@jupyter-widgets/controls",
            "_model_module_version": "1.5.0",
            "_model_name": "ProgressStyleModel",
            "_view_count": null,
            "_view_module": "@jupyter-widgets/base",
            "_view_module_version": "1.2.0",
            "_view_name": "StyleView",
            "bar_color": null,
            "description_width": ""
          }
        },
        "d549b5d6fde741e7841c01e43511c493": {
          "model_module": "@jupyter-widgets/base",
          "model_name": "LayoutModel",
          "model_module_version": "1.2.0",
          "state": {
            "_model_module": "@jupyter-widgets/base",
            "_model_module_version": "1.2.0",
            "_model_name": "LayoutModel",
            "_view_count": null,
            "_view_module": "@jupyter-widgets/base",
            "_view_module_version": "1.2.0",
            "_view_name": "LayoutView",
            "align_content": null,
            "align_items": null,
            "align_self": null,
            "border": null,
            "bottom": null,
            "display": null,
            "flex": null,
            "flex_flow": null,
            "grid_area": null,
            "grid_auto_columns": null,
            "grid_auto_flow": null,
            "grid_auto_rows": null,
            "grid_column": null,
            "grid_gap": null,
            "grid_row": null,
            "grid_template_areas": null,
            "grid_template_columns": null,
            "grid_template_rows": null,
            "height": null,
            "justify_content": null,
            "justify_items": null,
            "left": null,
            "margin": null,
            "max_height": null,
            "max_width": null,
            "min_height": null,
            "min_width": null,
            "object_fit": null,
            "object_position": null,
            "order": null,
            "overflow": null,
            "overflow_x": null,
            "overflow_y": null,
            "padding": null,
            "right": null,
            "top": null,
            "visibility": null,
            "width": null
          }
        },
        "c0aa65d4fb5a4aadaa1a4fa88ea8e106": {
          "model_module": "@jupyter-widgets/controls",
          "model_name": "DescriptionStyleModel",
          "model_module_version": "1.5.0",
          "state": {
            "_model_module": "@jupyter-widgets/controls",
            "_model_module_version": "1.5.0",
            "_model_name": "DescriptionStyleModel",
            "_view_count": null,
            "_view_module": "@jupyter-widgets/base",
            "_view_module_version": "1.2.0",
            "_view_name": "StyleView",
            "description_width": ""
          }
        }
      }
    }
  },
  "cells": [
    {
      "cell_type": "markdown",
      "metadata": {
        "id": "view-in-github",
        "colab_type": "text"
      },
      "source": [
        "<a href=\"https://colab.research.google.com/github/jhhan0/self-study-ml/blob/main/notes/tensorflow-keras-intro.ipynb\" target=\"_parent\"><img src=\"https://colab.research.google.com/assets/colab-badge.svg\" alt=\"Open In Colab\"/></a>"
      ]
    },
    {
      "cell_type": "markdown",
      "source": [
        "# A Simple Linear Regression Model"
      ],
      "metadata": {
        "id": "uaFh29zSnKno"
      }
    },
    {
      "cell_type": "code",
      "execution_count": 1,
      "metadata": {
        "id": "ZLF8at-4vxoa"
      },
      "outputs": [],
      "source": [
        "import numpy as np\n",
        "import tensorflow as tf\n",
        "import matplotlib.pyplot as plt"
      ]
    },
    {
      "cell_type": "code",
      "source": [
        "X_train = np.arange(10).reshape((10, 1))\n",
        "y_train = np.array([1.0, 1.3, 3.1, 2.0, 5.0, 6.3, 6.6, 7.4, 8.0, 9.0])\n",
        "\n",
        "plt.plot(X_train, y_train, 'o', markersize=10)\n",
        "plt.title(\"(X, y) pair samples\")\n",
        "plt.xlabel('X')\n",
        "plt.ylabel('y')\n",
        "plt.show()"
      ],
      "metadata": {
        "colab": {
          "base_uri": "https://localhost:8080/",
          "height": 295
        },
        "id": "OWbNqRdZ3Fam",
        "outputId": "25260fbc-fdcb-419d-ee3c-4c7c559cd997"
      },
      "execution_count": 2,
      "outputs": [
        {
          "output_type": "display_data",
          "data": {
            "text/plain": [
              "<Figure size 432x288 with 1 Axes>"
            ],
            "image/png": "[encoded data removed]"
          },
          "metadata": {
            "needs_background": "light"
          }
        }
      ]
    },
    {
      "cell_type": "markdown",
      "source": [
        "Normalize the `X_train` using functions `np.mean()` and `np.std()`. Then, create a dataset."
      ],
      "metadata": {
        "id": "nFR6lJ_-uqlj"
      }
    },
    {
      "cell_type": "code",
      "source": [
        "X_train_norm = (X_train - np.mean(X_train)) / np.std(X_train)\n",
        "train_ds = tf.data.Dataset.from_tensor_slices((tf.cast(X_train_norm, tf.float32), tf.cast(y_train, tf.float32)))"
      ],
      "metadata": {
        "id": "ZIQ7COa43P-O"
      },
      "execution_count": 3,
      "outputs": []
    },
    {
      "cell_type": "markdown",
      "source": [
        "Define a class `MyModel` which is a simple linear regression model with one `w` and one `b`."
      ],
      "metadata": {
        "id": "Zn1GjgLivLIW"
      }
    },
    {
      "cell_type": "code",
      "source": [
        "class MyModel(tf.keras.Model):\n",
        "  def __init__(self):\n",
        "    super(MyModel, self).__init__()\n",
        "    self.w = tf.Variable(0, name='w', dtype=tf.float32) # weight\n",
        "    self.b = tf.Variable(0, name='b', dtype=tf.float32) # bias\n",
        "  \n",
        "  def call(self, x):\n",
        "    return self.w * x + self.b"
      ],
      "metadata": {
        "id": "ixJUFKfq4pRJ"
      },
      "execution_count": 4,
      "outputs": []
    },
    {
      "cell_type": "code",
      "source": [
        "model = MyModel()\n",
        "model.build(input_shape=(None, 1))\n",
        "model.summary()"
      ],
      "metadata": {
        "colab": {
          "base_uri": "https://localhost:8080/"
        },
        "id": "BIEZ25e75Nem",
        "outputId": "934c30de-b81f-4653-ede2-a7fc6c8fd382"
      },
      "execution_count": 5,
      "outputs": [
        {
          "output_type": "stream",
          "name": "stdout",
          "text": [
            "Model: \"my_model\"\n",
            "_________________________________________________________________\n",
            " Layer (type)                Output Shape              Param #   \n",
            "=================================================================\n",
            "=================================================================\n",
            "Total params: 2\n",
            "Trainable params: 2\n",
            "Non-trainable params: 0\n",
            "_________________________________________________________________\n"
          ]
        }
      ]
    },
    {
      "cell_type": "markdown",
      "source": [
        "Define customized `Mean Squared Error (MSE) loss function` and `Stochastic Gradient Descent (SGD) train function` for processing model training."
      ],
      "metadata": {
        "id": "kn7pHVXveVPm"
      }
    },
    {
      "cell_type": "code",
      "source": [
        "def loss(y_true, y_pred):\n",
        "  return tf.reduce_sum(tf.square(y_true - y_pred)) # mean squared error\n",
        "\n",
        "def train(model, inputs, outputs, learning_rate):\n",
        "  with tf.GradientTape() as tape:\n",
        "    current_loss = loss(model(inputs), outputs)\n",
        "  dW, db = tape.gradient(current_loss, [model.w, model.b])\n",
        "  model.w.assign_sub(learning_rate * dW)\n",
        "  model.b.assign_sub(learning_rate * db)"
      ],
      "metadata": {
        "id": "8kDAP7Yxc2IY"
      },
      "execution_count": 6,
      "outputs": []
    },
    {
      "cell_type": "markdown",
      "source": [
        "Compile and train the model."
      ],
      "metadata": {
        "id": "af5ALI3vvr1c"
      }
    },
    {
      "cell_type": "code",
      "source": [
        "tf.random.set_seed(1)\n",
        "LEARNING_RATE = 0.001\n",
        "BATCH_SIZE = 1\n",
        "EPOCHS = 200\n",
        "STEPS_PER_EPOCH = len(X_train) // BATCH_SIZE"
      ],
      "metadata": {
        "id": "07SjBbHVmi65"
      },
      "execution_count": null,
      "outputs": []
    },
    {
      "cell_type": "code",
      "source": [
        "train_ds = train_ds.shuffle(buffer_size=len(X_train)).repeat().batch(batch_size=BATCH_SIZE)\n",
        "Ws, bs = [], []\n",
        "for i, batch in enumerate(train_ds):\n",
        "  if i >= STEPS_PER_EPOCH * EPOCHS:\n",
        "    break\n",
        "  # record weight and bias\n",
        "  Ws.append(model.w.numpy())\n",
        "  bs.append(model.b.numpy())\n",
        "\n",
        "  X_batch, y_batch = batch\n",
        "  loss_value = loss(model(X_batch), y_batch)\n",
        "  train(model, X_batch, y_batch, learning_rate=LEARNING_RATE)\n",
        "  if i % 100 == 0:\n",
        "    print(\"{:d} epochs {:4d} steps {:6.4f} loss\".format(int(i // STEPS_PER_EPOCH), i, loss_value))"
      ],
      "metadata": {
        "colab": {
          "base_uri": "https://localhost:8080/"
        },
        "id": "vBzn7jecwEKA",
        "outputId": "4c0bd925-71a0-467c-a330-b970ae28a2e7"
      },
      "execution_count": 7,
      "outputs": [
        {
          "output_type": "stream",
          "name": "stdout",
          "text": [
            "0 epochs    0 steps 43.5600 loss\n",
            "10 epochs  100 steps 0.7530 loss\n",
            "20 epochs  200 steps 20.1759 loss\n",
            "30 epochs  300 steps 23.3976 loss\n",
            "40 epochs  400 steps 6.3481 loss\n",
            "50 epochs  500 steps 4.6356 loss\n",
            "60 epochs  600 steps 0.2411 loss\n",
            "70 epochs  700 steps 0.2036 loss\n",
            "80 epochs  800 steps 3.8177 loss\n",
            "90 epochs  900 steps 0.9416 loss\n",
            "100 epochs 1000 steps 0.7035 loss\n",
            "110 epochs 1100 steps 0.0348 loss\n",
            "120 epochs 1200 steps 0.5404 loss\n",
            "130 epochs 1300 steps 0.1170 loss\n",
            "140 epochs 1400 steps 0.1195 loss\n",
            "150 epochs 1500 steps 0.0944 loss\n",
            "160 epochs 1600 steps 0.4670 loss\n",
            "170 epochs 1700 steps 2.0695 loss\n",
            "180 epochs 1800 steps 0.0020 loss\n",
            "190 epochs 1900 steps 0.3612 loss\n"
          ]
        }
      ]
    },
    {
      "cell_type": "markdown",
      "source": [
        "**IMPORTANT**: it is more preferred to compile and train the model using `Model.compile()` and `Model.fit()` methods from convenient Keras API. However, this is a introductory tutorial, so I used customized loss and train functions here."
      ],
      "metadata": {
        "id": "FeB9AzP3kyg6"
      }
    },
    {
      "cell_type": "code",
      "source": [
        "# model.compile(\n",
        "#     # SGD optimizer\n",
        "#     optimizer=tf.keras.optimizers.SGD(learning_rate=LEARNING_RATE),\n",
        "#     # MSE loss\n",
        "#     loss=tf.keras.losses.MeanSquaredError(),\n",
        "#     # metrics to evaluate; here Mean Absolute Error is chosen\n",
        "#     metrics=['mae']\n",
        "# )"
      ],
      "metadata": {
        "id": "1TmUp5qn5XDP"
      },
      "execution_count": 10,
      "outputs": []
    },
    {
      "cell_type": "code",
      "source": [
        "# train_ds = train_ds.shuffle(buffer_size=len(X_train)).repeat().batch(batch_size=BATCH_SIZE)\n",
        "# model.fit(train_ds, epochs=EPOCHS, batch_size=BATCH_SIZE, steps_per_epoch=STEPS_PER_EPOCH, verbose=1)"
      ],
      "metadata": {
        "id": "4nkshiTcmYZf"
      },
      "execution_count": null,
      "outputs": []
    },
    {
      "cell_type": "markdown",
      "source": [
        "Visualize the results: `mean squared error (mse)` and `accuracy`."
      ],
      "metadata": {
        "id": "Tz31Ia0C1Fcm"
      }
    },
    {
      "cell_type": "code",
      "source": [
        "X_test = np.linspace(0, 9, 100).reshape(-1, 1)\n",
        "# normalize X_test as well using the mean and s.t.d of X_train\n",
        "X_test_norm = (X_test - np.mean(X_train)) / np.std(X_train)\n",
        "y_pred = model(tf.cast(X_test_norm, dtype=tf.float32))"
      ],
      "metadata": {
        "id": "XIyxxC61hvi9"
      },
      "execution_count": 8,
      "outputs": []
    },
    {
      "cell_type": "code",
      "source": [
        "fig = plt.figure(figsize=(13, 5))\n",
        "\n",
        "ax = fig.add_subplot(1, 2, 1)\n",
        "plt.plot(X_train_norm, y_train, 'o', markersize=10)\n",
        "plt.plot(X_test_norm, y_pred, '--', lw=3)\n",
        "plt.legend(['Training samples', 'Predictions'], fontsize=15)\n",
        "ax.set_xlabel('X', size=15)\n",
        "ax.set_ylabel('y', size=15)\n",
        "ax.tick_params(axis='both', which='major', labelsize=15)\n",
        "\n",
        "ax = fig.add_subplot(1, 2, 2)\n",
        "plt.plot(Ws, lw=3)\n",
        "plt.plot(bs, lw=3)\n",
        "plt.legend(['Weights', 'Bias'], fontsize=15)\n",
        "ax.set_xlabel('Value', size=15)\n",
        "ax.set_ylabel('Steps', size=15)\n",
        "ax.tick_params(axis='both', which='major', labelsize=15)\n",
        "\n",
        "plt.show()"
      ],
      "metadata": {
        "colab": {
          "base_uri": "https://localhost:8080/",
          "height": 344
        },
        "id": "oh7UZDM-h0Hp",
        "outputId": "8954be69-cd08-417d-a987-1f279af934fc"
      },
      "execution_count": 9,
      "outputs": [
        {
          "output_type": "display_data",
          "data": {
            "text/plain": [
              "<Figure size 936x360 with 2 Axes>"
            ],
            "image/png": "[encoded data removed]"
          },
          "metadata": {
            "needs_background": "light"
          }
        }
      ]
    },
    {
      "cell_type": "markdown",
      "source": [
        "# A Deep Neural Network (DNN) model to classify Iris Flower Dataset"
      ],
      "metadata": {
        "id": "gdbBCUzzktxs"
      }
    },
    {
      "cell_type": "code",
      "source": [
        "import tensorflow_datasets as tfds"
      ],
      "metadata": {
        "id": "2PI_9z76nbYI"
      },
      "execution_count": 13,
      "outputs": []
    },
    {
      "cell_type": "code",
      "source": [
        "iris, iris_info = tfds.load('iris', with_info=True)\n",
        "print(iris_info)"
      ],
      "metadata": {
        "colab": {
          "base_uri": "https://localhost:8080/",
          "height": 715,
          "referenced_widgets": [
            "d5db22178949458f9327916dbe664dbb",
            "0d698b63bc2b4e8a8c49ac344ea81776",
            "c7378188e1cf48f6b3c5bd7e1214f446",
            "8f309c780f7940379d21d13a26f09cae",
            "72dd86102ab84f828866c1b74197128a",
            "3615fc63f3fb4d42a51eca76ed2efe5a",
            "81e15618f5264a70b3a94a6f8d7a1fe1",
            "f6e75070c5e148b981ceaa02b68c16d0",
            "de0e5c2e7bcb468d91c07f64b474d234",
            "1365ed7cd81b4ff5a79bebc36038cc32",
            "6304762bda2846d5af467d543d410a81",
            "32f0ff2b8a05407393c6392e6b262b2c",
            "c4a4ed29d48d4635b2ce3582aec5c00e",
            "1e22c6d5ecf34b3aa6e563ec1864be19",
            "11a4c4779fc5484c97e5c239a7948172",
            "787277b4017b4677857442ec492974e3",
            "3ccc46436c6d46849fce00af1b0c767a",
            "0c16d00d04844cda9dcc5dd1cea5b5ce",
            "76226d517df744d9a37f346125e08af1",
            "ba48988a61924c0291d5de29a96efc4d",
            "aa5618d9cc324305a31c98fefd42d8ad",
            "df0e019f33914ae2b5c41e7c3ee32b9e",
            "f883d7839ffa4798be83f09f5b4d7637",
            "16a9e838575e438cb66e640f458af6c2",
            "f88f26d8ce424b00be3893f664902662",
            "84180ad9a114420eaef49896092ca4f3",
            "7e7e741d376c47a5952e67d32e8a1545",
            "3296af0cd95a44e7bb4f445a9b2e8bf6",
            "602cba199a3a4e578759900cf8e73d26",
            "fe9a9e921a6f4eefbbf82825d25b4f43",
            "4ad797d70f67465c80bd412fca3ec3bc",
            "14fd5520b04446c6a0dbe808e24054a6",
            "e412b22c65ff4b63913e3a472428d20d",
            "cf8a20e0b2684294a32e5c9cde7b4fd2",
            "26093d0eb96347ce91cd4641b0f4e914",
            "3455153aeab4441e95f616439c8077e7",
            "0fc6df14346e49fc860f125ac37198df",
            "f3a874a314c94939a6bbb7fc3ecba57d",
            "342d9c98dffc40dbb407b716b44a1d75",
            "83492b1e79014666ada7af8ffc982c53",
            "a4786b7fbb604dd98393e95fb1441dfc",
            "14e59ec2da564f529c35b6f57e053cb9",
            "e78225cf3da4440d86e87fd03ee11078",
            "feecdcc47f7c4953bdb2ee37fb0417f3",
            "2211364ec6b848ec87b9c0db3265cace",
            "2208650d371742918b16f0d1a2b8727d",
            "9d972761f5964044be2d4e2e1c40b9df",
            "df44f08c15bd4b2480deb1f650ad0084",
            "e2ad3b85467c459dbd92008c77be5c7a",
            "37257bd718bf4d3dba83a80494c9d753",
            "cec87fd5760e40d683da9ce698dd6330",
            "f268ba64b617428abede9b82af4d6401",
            "4ec018a2b5584e4b8c3fe9a6e15dc5b7",
            "d549b5d6fde741e7841c01e43511c493",
            "c0aa65d4fb5a4aadaa1a4fa88ea8e106"
          ]
        },
        "id": "jaEb7ud6nbV6",
        "outputId": "cd43b066-da4d-4c05-dcc8-ee0ed0d6b3b3"
      },
      "execution_count": 14,
      "outputs": [
        {
          "output_type": "stream",
          "name": "stdout",
          "text": [
            "Downloading and preparing dataset Unknown size (download: Unknown size, generated: Unknown size, total: Unknown size) to /root/tensorflow_datasets/iris/2.0.0...\n"
          ]
        },
        {
          "output_type": "display_data",
          "data": {
            "text/plain": [
              "Dl Completed...: 0 url [00:00, ? url/s]"
            ],
            "application/vnd.jupyter.widget-view+json": {
              "version_major": 2,
              "version_minor": 0,
              "model_id": "d5db22178949458f9327916dbe664dbb"
            }
          },
          "metadata": {}
        },
        {
          "output_type": "display_data",
          "data": {
            "text/plain": [
              "Dl Size...: 0 MiB [00:00, ? MiB/s]"
            ],
            "application/vnd.jupyter.widget-view+json": {
              "version_major": 2,
              "version_minor": 0,
              "model_id": "32f0ff2b8a05407393c6392e6b262b2c"
            }
          },
          "metadata": {}
        },
        {
          "output_type": "display_data",
          "data": {
            "text/plain": [
              "Generating splits...:   0%|          | 0/1 [00:00<?, ? splits/s]"
            ],
            "application/vnd.jupyter.widget-view+json": {
              "version_major": 2,
              "version_minor": 0,
              "model_id": "f883d7839ffa4798be83f09f5b4d7637"
            }
          },
          "metadata": {}
        },
        {
          "output_type": "display_data",
          "data": {
            "text/plain": [
              "Generating train examples...: 0 examples [00:00, ? examples/s]"
            ],
            "application/vnd.jupyter.widget-view+json": {
              "version_major": 2,
              "version_minor": 0,
              "model_id": "cf8a20e0b2684294a32e5c9cde7b4fd2"
            }
          },
          "metadata": {}
        },
        {
          "output_type": "display_data",
          "data": {
            "text/plain": [
              "Shuffling /root/tensorflow_datasets/iris/2.0.0.incompleteJZQRU2/iris-train.tfrecord*...:   0%|          | 0/15…"
            ],
            "application/vnd.jupyter.widget-view+json": {
              "version_major": 2,
              "version_minor": 0,
              "model_id": "2211364ec6b848ec87b9c0db3265cace"
            }
          },
          "metadata": {}
        },
        {
          "output_type": "stream",
          "name": "stdout",
          "text": [
            "Dataset iris downloaded and prepared to /root/tensorflow_datasets/iris/2.0.0. Subsequent calls will reuse this data.\n",
            "tfds.core.DatasetInfo(\n",
            "    name='iris',\n",
            "    full_name='iris/2.0.0',\n",
            "    description=\"\"\"\n",
            "    This is perhaps the best known database to be found in the pattern recognition\n",
            "    literature. Fisher's paper is a classic in the field and is referenced\n",
            "    frequently to this day. (See Duda & Hart, for example.) The data set contains\n",
            "    3 classes of 50 instances each, where each class refers to a type of iris\n",
            "    plant. One class is linearly separable from the other 2; the latter are NOT\n",
            "    linearly separable from each other.\n",
            "    \"\"\",\n",
            "    homepage='https://archive.ics.uci.edu/ml/datasets/iris',\n",
            "    data_path='/root/tensorflow_datasets/iris/2.0.0',\n",
            "    file_format=tfrecord,\n",
            "    download_size=4.44 KiB,\n",
            "    dataset_size=7.62 KiB,\n",
            "    features=FeaturesDict({\n",
            "        'features': Tensor(shape=(4,), dtype=float32),\n",
            "        'label': ClassLabel(shape=(), dtype=int64, num_classes=3),\n",
            "    }),\n",
            "    supervised_keys=('features', 'label'),\n",
            "    disable_shuffling=False,\n",
            "    splits={\n",
            "        'train': <SplitInfo num_examples=150, num_shards=1>,\n",
            "    },\n",
            "    citation=\"\"\"@misc{Dua:2019 ,\n",
            "    author = \"Dua, Dheeru and Graff, Casey\",\n",
            "    year = \"2017\",\n",
            "    title = \"{UCI} Machine Learning Repository\",\n",
            "    url = \"http://archive.ics.uci.edu/ml\",\n",
            "    institution = \"University of California, Irvine, School of Information and Computer Sciences\"\n",
            "    }\"\"\",\n",
            ")\n"
          ]
        }
      ]
    },
    {
      "cell_type": "markdown",
      "source": [
        "Split Iris Flower Dataset into train, validation and test dataset each."
      ],
      "metadata": {
        "id": "D51EY0NxoAsR"
      }
    },
    {
      "cell_type": "code",
      "source": [
        "ds = iris['train']\n",
        "ds = ds.shuffle(150, reshuffle_each_iteration=False)\n",
        "train_ds = ds.take(100)\n",
        "val_ds = ds.skip(100).take(20)\n",
        "test_ds = ds.skip(120)\n",
        "\n",
        "print(len(train_ds), len(val_ds), len(test_ds))"
      ],
      "metadata": {
        "colab": {
          "base_uri": "https://localhost:8080/"
        },
        "id": "TtyiiU6wnbTe",
        "outputId": "85f8346a-0091-4587-dc85-ca24b25e0c42"
      },
      "execution_count": 16,
      "outputs": [
        {
          "output_type": "stream",
          "name": "stdout",
          "text": [
            "100 20 30\n"
          ]
        }
      ]
    },
    {
      "cell_type": "code",
      "source": [
        "train_ds = train_ds.map(lambda x: (x['features'], x['label']))\n",
        "val_ds = val_ds.map(lambda x: (x['features'], x['label']))\n",
        "test_ds = test_ds.map(lambda x: (x['features'], x['label']))"
      ],
      "metadata": {
        "colab": {
          "base_uri": "https://localhost:8080/"
        },
        "id": "2rkwXbg1nbQ8",
        "outputId": "0fcc5f6e-9252-4492-f724-f7f83679d5ec"
      },
      "execution_count": 17,
      "outputs": [
        {
          "output_type": "stream",
          "name": "stderr",
          "text": [
            "WARNING:tensorflow:From /usr/local/lib/python3.9/dist-packages/tensorflow/python/autograph/pyct/static_analysis/liveness.py:83: Analyzer.lamba_check (from tensorflow.python.autograph.pyct.static_analysis.liveness) is deprecated and will be removed after 2023-09-23.\n",
            "Instructions for updating:\n",
            "Lambda fuctions will be no more assumed to be used in the statement where they are used, or at least in the same block. https://github.com/tensorflow/tensorflow/issues/56089\n"
          ]
        }
      ]
    },
    {
      "cell_type": "markdown",
      "source": [
        "Create a DNN model using `tf.keras.Sequential` with two hidden `layers.Dense` layers."
      ],
      "metadata": {
        "id": "4bJAlOt1pwtK"
      }
    },
    {
      "cell_type": "code",
      "source": [
        "iris_model = tf.keras.models.Sequential([\n",
        "    tf.keras.layers.Dense(units=16, activation='sigmoid', name='fc1', input_shape=(4,)),\n",
        "    tf.keras.layers.Dense(3, 'softmax', name='fc2')\n",
        "])\n",
        "iris_model.summary()"
      ],
      "metadata": {
        "colab": {
          "base_uri": "https://localhost:8080/"
        },
        "id": "IjDiwkjfnbOi",
        "outputId": "836cc116-ed66-4c4b-f3da-a723d885df2c"
      },
      "execution_count": 18,
      "outputs": [
        {
          "output_type": "stream",
          "name": "stdout",
          "text": [
            "Model: \"sequential\"\n",
            "_________________________________________________________________\n",
            " Layer (type)                Output Shape              Param #   \n",
            "=================================================================\n",
            " fc1 (Dense)                 (None, 16)                80        \n",
            "                                                                 \n",
            " fc2 (Dense)                 (None, 3)                 51        \n",
            "                                                                 \n",
            "=================================================================\n",
            "Total params: 131\n",
            "Trainable params: 131\n",
            "Non-trainable params: 0\n",
            "_________________________________________________________________\n"
          ]
        }
      ]
    },
    {
      "cell_type": "code",
      "source": [
        "iris_model.compile(\n",
        "    # Adam optimizer\n",
        "    optimizer=tf.keras.optimizers.Adam(),\n",
        "    # SparseCategoricalCrossentropy loss function if labels are integer values\n",
        "    loss=tf.keras.losses.SparseCategoricalCrossentropy(),\n",
        "    metrics=['accuracy']\n",
        ")"
      ],
      "metadata": {
        "id": "75EXWVgdnbH8"
      },
      "execution_count": 19,
      "outputs": []
    },
    {
      "cell_type": "code",
      "source": [
        "EPOCHS = 100\n",
        "BUFFER_SIZE = len(train_ds)\n",
        "BATCH_SIZE = 2\n",
        "STEPS_PER_EPOCH = np.ceil(BUFFER_SIZE / BATCH_SIZE)\n",
        "\n",
        "train_ds = train_ds.shuffle(buffer_size=BUFFER_SIZE).repeat().batch(batch_size=BATCH_SIZE).prefetch(buffer_size=1000)\n",
        "val_ds = val_ds.batch(batch_size=len(val_ds))"
      ],
      "metadata": {
        "id": "9BcYGG4JnbFn"
      },
      "execution_count": 20,
      "outputs": []
    },
    {
      "cell_type": "code",
      "source": [
        "history = iris_model.fit(train_ds, validation_data=val_ds, epochs=EPOCHS, steps_per_epoch=STEPS_PER_EPOCH)"
      ],
      "metadata": {
        "colab": {
          "base_uri": "https://localhost:8080/"
        },
        "id": "nQfEbpcoBqsT",
        "outputId": "89c10836-9b6d-4bb9-8604-591089e89a98"
      },
      "execution_count": 21,
      "outputs": [
        {
          "output_type": "stream",
          "name": "stdout",
          "text": [
            "Epoch 1/100\n",
            "50/50 [==============================] - 1s 6ms/step - loss: 1.4371 - accuracy: 0.3300 - val_loss: 1.3561 - val_accuracy: 0.3000\n",
            "Epoch 2/100\n",
            "50/50 [==============================] - 0s 2ms/step - loss: 1.2350 - accuracy: 0.3300 - val_loss: 1.2062 - val_accuracy: 0.3000\n",
            "Epoch 3/100\n",
            "50/50 [==============================] - 0s 2ms/step - loss: 1.1248 - accuracy: 0.3300 - val_loss: 1.1077 - val_accuracy: 0.3000\n",
            "Epoch 4/100\n",
            "50/50 [==============================] - 0s 2ms/step - loss: 1.0468 - accuracy: 0.3500 - val_loss: 1.0328 - val_accuracy: 0.3000\n",
            "Epoch 5/100\n",
            "50/50 [==============================] - 0s 2ms/step - loss: 0.9851 - accuracy: 0.6200 - val_loss: 0.9674 - val_accuracy: 0.4500\n",
            "Epoch 6/100\n",
            "50/50 [==============================] - 0s 2ms/step - loss: 0.9272 - accuracy: 0.7000 - val_loss: 0.9510 - val_accuracy: 0.4500\n",
            "Epoch 7/100\n",
            "50/50 [==============================] - 0s 2ms/step - loss: 0.8858 - accuracy: 0.7000 - val_loss: 0.9155 - val_accuracy: 0.4500\n",
            "Epoch 8/100\n",
            "50/50 [==============================] - 0s 2ms/step - loss: 0.8465 - accuracy: 0.7000 - val_loss: 0.9072 - val_accuracy: 0.4500\n",
            "Epoch 9/100\n",
            "50/50 [==============================] - 0s 2ms/step - loss: 0.8153 - accuracy: 0.7000 - val_loss: 0.8880 - val_accuracy: 0.4500\n",
            "Epoch 10/100\n",
            "50/50 [==============================] - 0s 2ms/step - loss: 0.7820 - accuracy: 0.7100 - val_loss: 0.8464 - val_accuracy: 0.4500\n",
            "Epoch 11/100\n",
            "50/50 [==============================] - 0s 2ms/step - loss: 0.7537 - accuracy: 0.7000 - val_loss: 0.8323 - val_accuracy: 0.4500\n",
            "Epoch 12/100\n",
            "50/50 [==============================] - 0s 1ms/step - loss: 0.7237 - accuracy: 0.7000 - val_loss: 0.8187 - val_accuracy: 0.4500\n",
            "Epoch 13/100\n",
            "50/50 [==============================] - 0s 1ms/step - loss: 0.6998 - accuracy: 0.7000 - val_loss: 0.8073 - val_accuracy: 0.4500\n",
            "Epoch 14/100\n",
            "50/50 [==============================] - 0s 2ms/step - loss: 0.6757 - accuracy: 0.7400 - val_loss: 0.7782 - val_accuracy: 0.4500\n",
            "Epoch 15/100\n",
            "50/50 [==============================] - 0s 1ms/step - loss: 0.6500 - accuracy: 0.7200 - val_loss: 0.7765 - val_accuracy: 0.4500\n",
            "Epoch 16/100\n",
            "50/50 [==============================] - 0s 2ms/step - loss: 0.6290 - accuracy: 0.7100 - val_loss: 0.7558 - val_accuracy: 0.4500\n",
            "Epoch 17/100\n",
            "50/50 [==============================] - 0s 1ms/step - loss: 0.6091 - accuracy: 0.7500 - val_loss: 0.7293 - val_accuracy: 0.5500\n",
            "Epoch 18/100\n",
            "50/50 [==============================] - 0s 2ms/step - loss: 0.5895 - accuracy: 0.7600 - val_loss: 0.7239 - val_accuracy: 0.4500\n",
            "Epoch 19/100\n",
            "50/50 [==============================] - 0s 1ms/step - loss: 0.5752 - accuracy: 0.7300 - val_loss: 0.7057 - val_accuracy: 0.5000\n",
            "Epoch 20/100\n",
            "50/50 [==============================] - 0s 1ms/step - loss: 0.5573 - accuracy: 0.7400 - val_loss: 0.6938 - val_accuracy: 0.5000\n",
            "Epoch 21/100\n",
            "50/50 [==============================] - 0s 1ms/step - loss: 0.5448 - accuracy: 0.8300 - val_loss: 0.6739 - val_accuracy: 0.5500\n",
            "Epoch 22/100\n",
            "50/50 [==============================] - 0s 2ms/step - loss: 0.5305 - accuracy: 0.7500 - val_loss: 0.6765 - val_accuracy: 0.5000\n",
            "Epoch 23/100\n",
            "50/50 [==============================] - 0s 1ms/step - loss: 0.5192 - accuracy: 0.7500 - val_loss: 0.6606 - val_accuracy: 0.5500\n",
            "Epoch 24/100\n",
            "50/50 [==============================] - 0s 1ms/step - loss: 0.5074 - accuracy: 0.8400 - val_loss: 0.6479 - val_accuracy: 0.5500\n",
            "Epoch 25/100\n",
            "50/50 [==============================] - 0s 1ms/step - loss: 0.4968 - accuracy: 0.8300 - val_loss: 0.6375 - val_accuracy: 0.6000\n",
            "Epoch 26/100\n",
            "50/50 [==============================] - 0s 1ms/step - loss: 0.4881 - accuracy: 0.8700 - val_loss: 0.6296 - val_accuracy: 0.6500\n",
            "Epoch 27/100\n",
            "50/50 [==============================] - 0s 1ms/step - loss: 0.4779 - accuracy: 0.8900 - val_loss: 0.6243 - val_accuracy: 0.6000\n",
            "Epoch 28/100\n",
            "50/50 [==============================] - 0s 1ms/step - loss: 0.4741 - accuracy: 0.9500 - val_loss: 0.6135 - val_accuracy: 0.7000\n",
            "Epoch 29/100\n",
            "50/50 [==============================] - 0s 1ms/step - loss: 0.4664 - accuracy: 0.7600 - val_loss: 0.6254 - val_accuracy: 0.5500\n",
            "Epoch 30/100\n",
            "50/50 [==============================] - 0s 1ms/step - loss: 0.4560 - accuracy: 0.9300 - val_loss: 0.5882 - val_accuracy: 0.8500\n",
            "Epoch 31/100\n",
            "50/50 [==============================] - 0s 2ms/step - loss: 0.4477 - accuracy: 0.8800 - val_loss: 0.5925 - val_accuracy: 0.7500\n",
            "Epoch 32/100\n",
            "50/50 [==============================] - 0s 1ms/step - loss: 0.4434 - accuracy: 0.8700 - val_loss: 0.5752 - val_accuracy: 0.8500\n",
            "Epoch 33/100\n",
            "50/50 [==============================] - 0s 1ms/step - loss: 0.4370 - accuracy: 0.9000 - val_loss: 0.5880 - val_accuracy: 0.6000\n",
            "Epoch 34/100\n",
            "50/50 [==============================] - 0s 1ms/step - loss: 0.4319 - accuracy: 0.9500 - val_loss: 0.5656 - val_accuracy: 0.8500\n",
            "Epoch 35/100\n",
            "50/50 [==============================] - 0s 1ms/step - loss: 0.4233 - accuracy: 0.8700 - val_loss: 0.5785 - val_accuracy: 0.6000\n",
            "Epoch 36/100\n",
            "50/50 [==============================] - 0s 2ms/step - loss: 0.4151 - accuracy: 0.9100 - val_loss: 0.5496 - val_accuracy: 0.9000\n",
            "Epoch 37/100\n",
            "50/50 [==============================] - 0s 1ms/step - loss: 0.4122 - accuracy: 0.9600 - val_loss: 0.5542 - val_accuracy: 0.8500\n",
            "Epoch 38/100\n",
            "50/50 [==============================] - 0s 1ms/step - loss: 0.3986 - accuracy: 0.9400 - val_loss: 0.5381 - val_accuracy: 0.9000\n",
            "Epoch 39/100\n",
            "50/50 [==============================] - 0s 1ms/step - loss: 0.3905 - accuracy: 0.9300 - val_loss: 0.5432 - val_accuracy: 0.8500\n",
            "Epoch 40/100\n",
            "50/50 [==============================] - 0s 1ms/step - loss: 0.3823 - accuracy: 0.9700 - val_loss: 0.5180 - val_accuracy: 0.9000\n",
            "Epoch 41/100\n",
            "50/50 [==============================] - 0s 2ms/step - loss: 0.3759 - accuracy: 0.9300 - val_loss: 0.5292 - val_accuracy: 0.8500\n",
            "Epoch 42/100\n",
            "50/50 [==============================] - 0s 1ms/step - loss: 0.3678 - accuracy: 0.9700 - val_loss: 0.5047 - val_accuracy: 0.9000\n",
            "Epoch 43/100\n",
            "50/50 [==============================] - 0s 2ms/step - loss: 0.3609 - accuracy: 0.9900 - val_loss: 0.4990 - val_accuracy: 0.9000\n",
            "Epoch 44/100\n",
            "50/50 [==============================] - 0s 2ms/step - loss: 0.3566 - accuracy: 0.9700 - val_loss: 0.4949 - val_accuracy: 0.9000\n",
            "Epoch 45/100\n",
            "50/50 [==============================] - 0s 1ms/step - loss: 0.3485 - accuracy: 0.9700 - val_loss: 0.4770 - val_accuracy: 0.9000\n",
            "Epoch 46/100\n",
            "50/50 [==============================] - 0s 1ms/step - loss: 0.3439 - accuracy: 0.9900 - val_loss: 0.4694 - val_accuracy: 0.9000\n",
            "Epoch 47/100\n",
            "50/50 [==============================] - 0s 1ms/step - loss: 0.3368 - accuracy: 0.9800 - val_loss: 0.4700 - val_accuracy: 0.9000\n",
            "Epoch 48/100\n",
            "50/50 [==============================] - 0s 1ms/step - loss: 0.3310 - accuracy: 0.9800 - val_loss: 0.4626 - val_accuracy: 0.9000\n",
            "Epoch 49/100\n",
            "50/50 [==============================] - 0s 1ms/step - loss: 0.3251 - accuracy: 0.9900 - val_loss: 0.4564 - val_accuracy: 0.9000\n",
            "Epoch 50/100\n",
            "50/50 [==============================] - 0s 1ms/step - loss: 0.3183 - accuracy: 0.9700 - val_loss: 0.4421 - val_accuracy: 0.9000\n",
            "Epoch 51/100\n",
            "50/50 [==============================] - 0s 1ms/step - loss: 0.3145 - accuracy: 0.9800 - val_loss: 0.4360 - val_accuracy: 0.9000\n",
            "Epoch 52/100\n",
            "50/50 [==============================] - 0s 2ms/step - loss: 0.3084 - accuracy: 0.9800 - val_loss: 0.4303 - val_accuracy: 0.9000\n",
            "Epoch 53/100\n",
            "50/50 [==============================] - 0s 1ms/step - loss: 0.3050 - accuracy: 0.9800 - val_loss: 0.4275 - val_accuracy: 0.9000\n",
            "Epoch 54/100\n",
            "50/50 [==============================] - 0s 1ms/step - loss: 0.2986 - accuracy: 0.9900 - val_loss: 0.4112 - val_accuracy: 0.9000\n",
            "Epoch 55/100\n",
            "50/50 [==============================] - 0s 1ms/step - loss: 0.2945 - accuracy: 0.9800 - val_loss: 0.4015 - val_accuracy: 0.9000\n",
            "Epoch 56/100\n",
            "50/50 [==============================] - 0s 1ms/step - loss: 0.2920 - accuracy: 0.9700 - val_loss: 0.4109 - val_accuracy: 0.9000\n",
            "Epoch 57/100\n",
            "50/50 [==============================] - 0s 1ms/step - loss: 0.2825 - accuracy: 0.9800 - val_loss: 0.4011 - val_accuracy: 0.9000\n",
            "Epoch 58/100\n",
            "50/50 [==============================] - 0s 1ms/step - loss: 0.2788 - accuracy: 0.9800 - val_loss: 0.3994 - val_accuracy: 0.9000\n",
            "Epoch 59/100\n",
            "50/50 [==============================] - 0s 1ms/step - loss: 0.2727 - accuracy: 0.9800 - val_loss: 0.3848 - val_accuracy: 0.9000\n",
            "Epoch 60/100\n",
            "50/50 [==============================] - 0s 2ms/step - loss: 0.2687 - accuracy: 0.9800 - val_loss: 0.3953 - val_accuracy: 0.9000\n",
            "Epoch 61/100\n",
            "50/50 [==============================] - 0s 1ms/step - loss: 0.2678 - accuracy: 0.9900 - val_loss: 0.3932 - val_accuracy: 0.9000\n",
            "Epoch 62/100\n",
            "50/50 [==============================] - 0s 2ms/step - loss: 0.2648 - accuracy: 0.9700 - val_loss: 0.3616 - val_accuracy: 0.9000\n",
            "Epoch 63/100\n",
            "50/50 [==============================] - 0s 2ms/step - loss: 0.2551 - accuracy: 0.9900 - val_loss: 0.3543 - val_accuracy: 0.9000\n",
            "Epoch 64/100\n",
            "50/50 [==============================] - 0s 1ms/step - loss: 0.2518 - accuracy: 0.9800 - val_loss: 0.3575 - val_accuracy: 0.9000\n",
            "Epoch 65/100\n",
            "50/50 [==============================] - 0s 1ms/step - loss: 0.2460 - accuracy: 0.9800 - val_loss: 0.3537 - val_accuracy: 0.9000\n",
            "Epoch 66/100\n",
            "50/50 [==============================] - 0s 2ms/step - loss: 0.2423 - accuracy: 0.9900 - val_loss: 0.3477 - val_accuracy: 0.9000\n",
            "Epoch 67/100\n",
            "50/50 [==============================] - 0s 2ms/step - loss: 0.2391 - accuracy: 0.9800 - val_loss: 0.3404 - val_accuracy: 0.9000\n",
            "Epoch 68/100\n",
            "50/50 [==============================] - 0s 1ms/step - loss: 0.2351 - accuracy: 0.9800 - val_loss: 0.3256 - val_accuracy: 0.9500\n",
            "Epoch 69/100\n",
            "50/50 [==============================] - 0s 1ms/step - loss: 0.2308 - accuracy: 0.9800 - val_loss: 0.3344 - val_accuracy: 0.9000\n",
            "Epoch 70/100\n",
            "50/50 [==============================] - 0s 2ms/step - loss: 0.2276 - accuracy: 0.9800 - val_loss: 0.3395 - val_accuracy: 0.9000\n",
            "Epoch 71/100\n",
            "50/50 [==============================] - 0s 2ms/step - loss: 0.2248 - accuracy: 0.9800 - val_loss: 0.3385 - val_accuracy: 0.9000\n",
            "Epoch 72/100\n",
            "50/50 [==============================] - 0s 1ms/step - loss: 0.2193 - accuracy: 0.9800 - val_loss: 0.3221 - val_accuracy: 0.9000\n",
            "Epoch 73/100\n",
            "50/50 [==============================] - 0s 2ms/step - loss: 0.2162 - accuracy: 0.9800 - val_loss: 0.3272 - val_accuracy: 0.9000\n",
            "Epoch 74/100\n",
            "50/50 [==============================] - 0s 1ms/step - loss: 0.2127 - accuracy: 0.9800 - val_loss: 0.3191 - val_accuracy: 0.9000\n",
            "Epoch 75/100\n",
            "50/50 [==============================] - 0s 1ms/step - loss: 0.2105 - accuracy: 0.9800 - val_loss: 0.3150 - val_accuracy: 0.9000\n",
            "Epoch 76/100\n",
            "50/50 [==============================] - 0s 1ms/step - loss: 0.2069 - accuracy: 0.9800 - val_loss: 0.3159 - val_accuracy: 0.9000\n",
            "Epoch 77/100\n",
            "50/50 [==============================] - 0s 1ms/step - loss: 0.2014 - accuracy: 0.9800 - val_loss: 0.2959 - val_accuracy: 0.9000\n",
            "Epoch 78/100\n",
            "50/50 [==============================] - 0s 1ms/step - loss: 0.1992 - accuracy: 0.9800 - val_loss: 0.2985 - val_accuracy: 0.9000\n",
            "Epoch 79/100\n",
            "50/50 [==============================] - 0s 1ms/step - loss: 0.1949 - accuracy: 0.9800 - val_loss: 0.2992 - val_accuracy: 0.9000\n",
            "Epoch 80/100\n",
            "50/50 [==============================] - 0s 2ms/step - loss: 0.1943 - accuracy: 0.9800 - val_loss: 0.2780 - val_accuracy: 0.9500\n",
            "Epoch 81/100\n",
            "50/50 [==============================] - 0s 2ms/step - loss: 0.1913 - accuracy: 0.9800 - val_loss: 0.2949 - val_accuracy: 0.9000\n",
            "Epoch 82/100\n",
            "50/50 [==============================] - 0s 1ms/step - loss: 0.1868 - accuracy: 0.9800 - val_loss: 0.2826 - val_accuracy: 0.9000\n",
            "Epoch 83/100\n",
            "50/50 [==============================] - 0s 2ms/step - loss: 0.1841 - accuracy: 0.9800 - val_loss: 0.2730 - val_accuracy: 0.9500\n",
            "Epoch 84/100\n",
            "50/50 [==============================] - 0s 2ms/step - loss: 0.1835 - accuracy: 0.9800 - val_loss: 0.3105 - val_accuracy: 0.9000\n",
            "Epoch 85/100\n",
            "50/50 [==============================] - 0s 1ms/step - loss: 0.1766 - accuracy: 0.9800 - val_loss: 0.2726 - val_accuracy: 0.9000\n",
            "Epoch 86/100\n",
            "50/50 [==============================] - 0s 1ms/step - loss: 0.1766 - accuracy: 0.9800 - val_loss: 0.2735 - val_accuracy: 0.9000\n",
            "Epoch 87/100\n",
            "50/50 [==============================] - 0s 2ms/step - loss: 0.1724 - accuracy: 0.9900 - val_loss: 0.2512 - val_accuracy: 0.9500\n",
            "Epoch 88/100\n",
            "50/50 [==============================] - 0s 1ms/step - loss: 0.1691 - accuracy: 0.9900 - val_loss: 0.2860 - val_accuracy: 0.9000\n",
            "Epoch 89/100\n",
            "50/50 [==============================] - 0s 1ms/step - loss: 0.1687 - accuracy: 0.9800 - val_loss: 0.2568 - val_accuracy: 0.9500\n",
            "Epoch 90/100\n",
            "50/50 [==============================] - 0s 1ms/step - loss: 0.1692 - accuracy: 0.9800 - val_loss: 0.2557 - val_accuracy: 0.9000\n",
            "Epoch 91/100\n",
            "50/50 [==============================] - 0s 2ms/step - loss: 0.1622 - accuracy: 0.9800 - val_loss: 0.2444 - val_accuracy: 0.9500\n",
            "Epoch 92/100\n",
            "50/50 [==============================] - 0s 2ms/step - loss: 0.1607 - accuracy: 0.9800 - val_loss: 0.2517 - val_accuracy: 0.9000\n",
            "Epoch 93/100\n",
            "50/50 [==============================] - 0s 1ms/step - loss: 0.1571 - accuracy: 0.9800 - val_loss: 0.2511 - val_accuracy: 0.9000\n",
            "Epoch 94/100\n",
            "50/50 [==============================] - 0s 1ms/step - loss: 0.1564 - accuracy: 0.9800 - val_loss: 0.2643 - val_accuracy: 0.9000\n",
            "Epoch 95/100\n",
            "50/50 [==============================] - 0s 2ms/step - loss: 0.1547 - accuracy: 0.9800 - val_loss: 0.2483 - val_accuracy: 0.9000\n",
            "Epoch 96/100\n",
            "50/50 [==============================] - 0s 2ms/step - loss: 0.1509 - accuracy: 0.9800 - val_loss: 0.2472 - val_accuracy: 0.9000\n",
            "Epoch 97/100\n",
            "50/50 [==============================] - 0s 1ms/step - loss: 0.1499 - accuracy: 0.9800 - val_loss: 0.2375 - val_accuracy: 0.9500\n",
            "Epoch 98/100\n",
            "50/50 [==============================] - 0s 2ms/step - loss: 0.1482 - accuracy: 0.9800 - val_loss: 0.2390 - val_accuracy: 0.9000\n",
            "Epoch 99/100\n",
            "50/50 [==============================] - 0s 1ms/step - loss: 0.1449 - accuracy: 0.9800 - val_loss: 0.2381 - val_accuracy: 0.9000\n",
            "Epoch 100/100\n",
            "50/50 [==============================] - 0s 1ms/step - loss: 0.1423 - accuracy: 0.9800 - val_loss: 0.2387 - val_accuracy: 0.9000\n"
          ]
        }
      ]
    },
    {
      "cell_type": "markdown",
      "source": [
        "Visualize the results: `training loss` & `validation loss` / `training accuracy` & `validation accuracy` over the number of `epochs`."
      ],
      "metadata": {
        "id": "R0xD9wzrtBVD"
      }
    },
    {
      "cell_type": "code",
      "source": [
        "hist = history.history\n",
        "fig = plt.figure(figsize=(13, 5))\n",
        "ax = fig.add_subplot(1, 2, 1)\n",
        "ax.plot(hist['loss'], lw=3, label='Training loss')\n",
        "ax.plot(hist['val_loss'], lw=3, label='Validation loss')\n",
        "ax.set_title('Losses', size=15)\n",
        "ax.set_xlabel('Epoch', size=15)\n",
        "ax.tick_params(axis='both', which='major', labelsize=15)\n",
        "ax.legend()\n",
        "ax = fig.add_subplot(1, 2, 2)\n",
        "ax.plot(hist['accuracy'], lw=3, label='Training acc.')\n",
        "ax.plot(hist['val_accuracy'], lw=3, label='Validation acc.')\n",
        "ax.set_title('Accuracies', size=15)\n",
        "ax.set_xlabel('Epoch', size=15)\n",
        "ax.tick_params(axis='both', which='major', labelsize=15)\n",
        "ax.legend()\n",
        "plt.show()"
      ],
      "metadata": {
        "colab": {
          "base_uri": "https://localhost:8080/",
          "height": 362
        },
        "id": "Lyl4KlGbCGu9",
        "outputId": "53800d1b-8879-41cb-b73c-fb5dc4628a2f"
      },
      "execution_count": 22,
      "outputs": [
        {
          "output_type": "display_data",
          "data": {
            "text/plain": [
              "<Figure size 936x360 with 2 Axes>"
            ],
            "image/png": "[encoded data removed]"
          },
          "metadata": {
            "needs_background": "light"
          }
        }
      ]
    },
    {
      "cell_type": "markdown",
      "source": [
        "Evaluate a DNN Model using a test dataset."
      ],
      "metadata": {
        "id": "4AiRDRG7tcmS"
      }
    },
    {
      "cell_type": "code",
      "source": [
        "results = iris_model.evaluate(test_ds.batch(30))\n",
        "print('test loss: {:.4f}, test acc.: {:.4f}'.format(results[0], results[1]))"
      ],
      "metadata": {
        "colab": {
          "base_uri": "https://localhost:8080/"
        },
        "id": "SzE2DRDrtAQS",
        "outputId": "bbadb468-a7b4-4680-d5b9-b4ad4ae1db12"
      },
      "execution_count": 23,
      "outputs": [
        {
          "output_type": "stream",
          "name": "stdout",
          "text": [
            "1/1 [==============================] - 0s 39ms/step - loss: 0.1373 - accuracy: 0.9667\n",
            "test loss: 0.1373, test acc.: 0.9667\n"
          ]
        }
      ]
    },
    {
      "cell_type": "markdown",
      "source": [
        "Save a Model into a `h5` format for reuse."
      ],
      "metadata": {
        "id": "qpj-J_L5tzRS"
      }
    },
    {
      "cell_type": "code",
      "source": [
        "iris_model.save('iris-dnn-model.h5', overwrite=True, include_optimizer=True, save_format='h5')"
      ],
      "metadata": {
        "id": "CasPV61JtqRR"
      },
      "execution_count": 24,
      "outputs": []
    },
    {
      "cell_type": "markdown",
      "source": [
        "Load a Model and check if it outputs the same result as above."
      ],
      "metadata": {
        "id": "g25ND-gSuTuu"
      }
    },
    {
      "cell_type": "code",
      "source": [
        "iris_model_load = tf.keras.models.load_model('iris-dnn-model.h5')\n",
        "results = iris_model_load.evaluate(test_ds.batch(30))\n",
        "print('test loss: {:.4f}, test acc.: {:.4f}'.format(results[0], results[1]))"
      ],
      "metadata": {
        "colab": {
          "base_uri": "https://localhost:8080/"
        },
        "id": "KVxON9NZuUQj",
        "outputId": "ed88891f-c7d0-4973-ca6f-078c2f20b3ea"
      },
      "execution_count": 25,
      "outputs": [
        {
          "output_type": "stream",
          "name": "stdout",
          "text": [
            "1/1 [==============================] - 0s 112ms/step - loss: 0.1373 - accuracy: 0.9667\n",
            "test loss: 0.1373, test acc.: 0.9667\n"
          ]
        }
      ]
    }
  ]
}